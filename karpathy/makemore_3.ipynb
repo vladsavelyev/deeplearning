{
  "nbformat": 4,
  "nbformat_minor": 0,
  "metadata": {
    "colab": {
      "provenance": [],
      "authorship_tag": "ABX9TyN0CHnbUIZUx6Ys7LsLVPrP",
      "include_colab_link": true
    },
    "kernelspec": {
      "name": "python3",
      "display_name": "Python 3"
    },
    "language_info": {
      "name": "python"
    }
  },
  "cells": [
    {
      "cell_type": "markdown",
      "metadata": {
        "id": "view-in-github",
        "colab_type": "text"
      },
      "source": [
        "<a href=\"https://colab.research.google.com/github/vladsavelyev/deeplearning/blob/master/karpathy/makemore_3.ipynb\" target=\"_parent\"><img src=\"https://colab.research.google.com/assets/colab-badge.svg\" alt=\"Open In Colab\"/></a>"
      ]
    },
    {
      "cell_type": "code",
      "execution_count": 63,
      "metadata": {
        "id": "2bpdznEeBb7F"
      },
      "outputs": [],
      "source": [
        "import torch\n",
        "import torch.nn.functional as F\n",
        "import matplotlib.pyplot as plt\n",
        "%matplotlib inline"
      ]
    },
    {
      "cell_type": "code",
      "source": [
        "from pathlib import Path\n",
        "import requests\n",
        "data_path = Path('names.txt')\n",
        "if not data_path.exists():\n",
        "    r = requests.get('https://raw.githubusercontent.com/vladsavelyev/deeplearning/master/karpathy/names.txt')\n",
        "    with data_path.open('wb') as f:\n",
        "        f.write(r.content)\n",
        "\n",
        "with data_path.open() as f:\n",
        "    words = f.read().split()\n",
        "\n",
        "print(words[:10])\n",
        "print(f'{len(words)=}, {max(len(w) for w in words)=}, {min(len(w) for w in words)=}')\n",
        "\n",
        "vocab = ['.'] + sorted(list(set(''.join(words))))\n",
        "itos = {k: v for k, v in enumerate(vocab)}\n",
        "stoi = {v: k for k, v in itos.items()}\n",
        "print(len(vocab), vocab)"
      ],
      "metadata": {
        "colab": {
          "base_uri": "https://localhost:8080/"
        },
        "id": "NyCom05GHH_4",
        "outputId": "5b01a63e-ed79-4dac-9d02-0b3353deebb1"
      },
      "execution_count": 64,
      "outputs": [
        {
          "output_type": "stream",
          "name": "stdout",
          "text": [
            "['emma', 'olivia', 'ava', 'isabella', 'sophia', 'charlotte', 'mia', 'amelia', 'harper', 'evelyn']\n",
            "len(words)=32033, max(len(w) for w in words)=15, min(len(w) for w in words)=2\n",
            "27 ['.', 'a', 'b', 'c', 'd', 'e', 'f', 'g', 'h', 'i', 'j', 'k', 'l', 'm', 'n', 'o', 'p', 'q', 'r', 's', 't', 'u', 'v', 'w', 'x', 'y', 'z']\n"
          ]
        }
      ]
    },
    {
      "cell_type": "code",
      "source": [
        "block_size = 3\n",
        "\n",
        "def build_dataset(words):\n",
        "    X, Y = [], []\n",
        "    for w in words:\n",
        "        context = [0] * block_size\n",
        "        for ch in w + '.':\n",
        "            X.append(context)\n",
        "            Y.append(stoi[ch])\n",
        "            context = context[1:] + [stoi[ch]]\n",
        "    return torch.tensor(X), torch.tensor(Y)\n",
        "\n",
        "import random\n",
        "random.seed(42)\n",
        "random.shuffle(words)\n",
        "n1 = int(len(words) * 0.8)\n",
        "n2 = int(len(words) * 0.9)\n",
        "Xtr, Ytr = build_dataset(words[:n1])  # 80%\n",
        "Xdev, Ydev = build_dataset(words[n1:n2])  # 10%\n",
        "Xtest, Ytest = build_dataset(words[n2:])  # 10%\n",
        "len(Xtr), len(Xdev), len(Xtest)"
      ],
      "metadata": {
        "colab": {
          "base_uri": "https://localhost:8080/"
        },
        "id": "kbxVl4dFHLu9",
        "outputId": "1799cf97-b928-4579-ef1f-85ca973af999"
      },
      "execution_count": 65,
      "outputs": [
        {
          "output_type": "execute_result",
          "data": {
            "text/plain": [
              "(182625, 22655, 22866)"
            ]
          },
          "metadata": {},
          "execution_count": 65
        }
      ]
    },
    {
      "cell_type": "code",
      "source": [
        "# MLP revisited\n",
        "n_embd = 10  # the dimensionality of the character embedding vectors\n",
        "n_hidden = 200  # the number of neurons in the hidden layer of the MLP\n",
        "\n",
        "g = torch.Generator().manual_seed(42)  # for reproducibility\n",
        "C  = torch.randn((len(vocab), n_embd),            generator=g)\n",
        "W1 = torch.randn((n_embd * block_size, n_hidden), generator=g)\n",
        "b1 = torch.randn(n_hidden,                        generator=g)\n",
        "W2 = torch.randn((n_hidden, len(vocab)),          generator=g)\n",
        "b2 = torch.randn(len(vocab),                      generator=g)\n",
        "\n",
        "parameters = [C, W1, b1, W2, b2]\n",
        "print('Model parameters number', sum(p.nelement() for p in parameters))\n",
        "for p in parameters:\n",
        "    p.requires_grad = True"
      ],
      "metadata": {
        "colab": {
          "base_uri": "https://localhost:8080/"
        },
        "id": "6p68UmRNITHf",
        "outputId": "42ed1761-b1e4-4e2b-bfa3-8b979b241971"
      },
      "execution_count": 66,
      "outputs": [
        {
          "output_type": "stream",
          "name": "stdout",
          "text": [
            "Model parameters number 11897\n"
          ]
        }
      ]
    },
    {
      "cell_type": "code",
      "source": [
        "max_steps = 200_000\n",
        "batch_size = 32\n",
        "learning_rate = 0.1\n",
        "\n",
        "lossi = []\n",
        "\n",
        "@torch.no_grad()\n",
        "def calc_loss(split):\n",
        "    x, y = {\n",
        "        'train': (Xtr, Ytr),\n",
        "        'dev': (Xdev, Ydev),\n",
        "        'test': (Xtest, Ytest),\n",
        "    }[split]\n",
        "    emb = C[x].view(-1, block_size * n_embd)\n",
        "    h = torch.tanh(emb @ W1 + b1)\n",
        "    logits = h @ W2 + b2\n",
        "    return F.cross_entropy(logits, y)\n",
        "    \n",
        "for i in range(max_steps):\n",
        "    lr = learning_rate\n",
        "    if i > max_steps / 2:\n",
        "        lr = learning_rate / 10\n",
        "\n",
        "    # minibatch construct\n",
        "    ix = torch.randint(low=0, high=Xtr.shape[0], size=(batch_size,), generator=g)\n",
        "\n",
        "    # forward pass\n",
        "    emb = C[Xtr[ix]].view(-1, block_size * n_embd)  # embed chars into vectors\n",
        "    h = torch.tanh(emb @ W1 + b1)  # hidden layer actications\n",
        "    logits = h @ W2 + b2  # output layer\n",
        "    loss = F.cross_entropy(logits, Ytr[ix])  # loss function\n",
        "    # equivalent to (assuming probs = F.softmax(logits, dim=1)):\n",
        "    # loss = = F.nll_loss(probs.log(), Ytr[ix])\n",
        "    # loss = -probs[torch.arange(start=0, end=len(ix)), Ytr[ix]].log().mean()\n",
        "\n",
        "    # track stats for 1000 steps\n",
        "    if i % (max_steps / 1000) == 0:\n",
        "        lossi.append(calc_loss('dev'))\n",
        "        # print 100 steps\n",
        "        if i % (max_steps / 100) == 0:\n",
        "            print(f'{i=}, {lr=}, loss_dev={lossi[-1]}')\n",
        "\n",
        "    # backward pass\n",
        "    for p in parameters:\n",
        "        p.grad = None\n",
        "    loss.backward()\n",
        "\n",
        "    # paramter update\n",
        "    for p in parameters:\n",
        "        p.data -= learning_rate * p.grad\n",
        "\n",
        "print(f'Final dev loss: {calc_loss(\"dev\")}')\n",
        "print(f'Final test loss: {calc_loss(\"test\")}')"
      ],
      "metadata": {
        "colab": {
          "base_uri": "https://localhost:8080/"
        },
        "id": "7rzaDskxJ8NS",
        "outputId": "fc03bfe1-0e30-4b95-cb8e-326a183d602d"
      },
      "execution_count": 67,
      "outputs": [
        {
          "output_type": "stream",
          "name": "stdout",
          "text": [
            "i=0, lr=0.1, loss_dev=26.972827911376953\n",
            "i=2000, lr=0.1, loss_dev=3.054460287094116\n",
            "i=4000, lr=0.1, loss_dev=2.7417726516723633\n",
            "i=6000, lr=0.1, loss_dev=2.6612091064453125\n",
            "i=8000, lr=0.1, loss_dev=2.600219249725342\n",
            "i=10000, lr=0.1, loss_dev=2.6144962310791016\n",
            "i=12000, lr=0.1, loss_dev=2.52915096282959\n",
            "i=14000, lr=0.1, loss_dev=2.4970622062683105\n",
            "i=16000, lr=0.1, loss_dev=2.478848934173584\n",
            "i=18000, lr=0.1, loss_dev=2.450507879257202\n",
            "i=20000, lr=0.1, loss_dev=2.438777208328247\n",
            "i=22000, lr=0.1, loss_dev=2.473804235458374\n",
            "i=24000, lr=0.1, loss_dev=2.412447929382324\n",
            "i=26000, lr=0.1, loss_dev=2.4093754291534424\n",
            "i=28000, lr=0.1, loss_dev=2.3998866081237793\n",
            "i=30000, lr=0.1, loss_dev=2.3889992237091064\n",
            "i=32000, lr=0.1, loss_dev=2.411163091659546\n",
            "i=34000, lr=0.1, loss_dev=2.424211263656616\n",
            "i=36000, lr=0.1, loss_dev=2.3934221267700195\n",
            "i=38000, lr=0.1, loss_dev=2.3628344535827637\n",
            "i=40000, lr=0.1, loss_dev=2.3427627086639404\n",
            "i=42000, lr=0.1, loss_dev=2.4599416255950928\n",
            "i=44000, lr=0.1, loss_dev=2.3188185691833496\n",
            "i=46000, lr=0.1, loss_dev=2.34159255027771\n",
            "i=48000, lr=0.1, loss_dev=2.3598718643188477\n",
            "i=50000, lr=0.1, loss_dev=2.3297948837280273\n",
            "i=52000, lr=0.1, loss_dev=2.3685519695281982\n",
            "i=54000, lr=0.1, loss_dev=2.3136932849884033\n",
            "i=56000, lr=0.1, loss_dev=2.345543384552002\n",
            "i=58000, lr=0.1, loss_dev=2.324343681335449\n",
            "i=60000, lr=0.1, loss_dev=2.310079336166382\n",
            "i=62000, lr=0.1, loss_dev=2.3204193115234375\n",
            "i=64000, lr=0.1, loss_dev=2.3708081245422363\n",
            "i=66000, lr=0.1, loss_dev=2.3302366733551025\n",
            "i=68000, lr=0.1, loss_dev=2.310802698135376\n",
            "i=70000, lr=0.1, loss_dev=2.348017930984497\n",
            "i=72000, lr=0.1, loss_dev=2.271306037902832\n",
            "i=74000, lr=0.1, loss_dev=2.352193832397461\n",
            "i=76000, lr=0.1, loss_dev=2.3577775955200195\n",
            "i=78000, lr=0.1, loss_dev=2.3145382404327393\n",
            "i=80000, lr=0.1, loss_dev=2.2842013835906982\n",
            "i=82000, lr=0.1, loss_dev=2.3381948471069336\n",
            "i=84000, lr=0.1, loss_dev=2.3166134357452393\n",
            "i=86000, lr=0.1, loss_dev=2.298243761062622\n",
            "i=88000, lr=0.1, loss_dev=2.281773567199707\n",
            "i=90000, lr=0.1, loss_dev=2.286696195602417\n",
            "i=92000, lr=0.1, loss_dev=2.2560672760009766\n",
            "i=94000, lr=0.1, loss_dev=2.305938720703125\n",
            "i=96000, lr=0.1, loss_dev=2.385359048843384\n",
            "i=98000, lr=0.1, loss_dev=2.269329786300659\n",
            "i=100000, lr=0.1, loss_dev=2.405925750732422\n",
            "i=102000, lr=0.01, loss_dev=2.2873001098632812\n",
            "i=104000, lr=0.01, loss_dev=2.288224935531616\n",
            "i=106000, lr=0.01, loss_dev=2.271873712539673\n",
            "i=108000, lr=0.01, loss_dev=2.292370557785034\n",
            "i=110000, lr=0.01, loss_dev=2.3408408164978027\n",
            "i=112000, lr=0.01, loss_dev=2.2671396732330322\n",
            "i=114000, lr=0.01, loss_dev=2.3125576972961426\n",
            "i=116000, lr=0.01, loss_dev=2.2929248809814453\n",
            "i=118000, lr=0.01, loss_dev=2.289686441421509\n",
            "i=120000, lr=0.01, loss_dev=2.304396390914917\n",
            "i=122000, lr=0.01, loss_dev=2.303304433822632\n",
            "i=124000, lr=0.01, loss_dev=2.2788777351379395\n",
            "i=126000, lr=0.01, loss_dev=2.315519332885742\n",
            "i=128000, lr=0.01, loss_dev=2.34179949760437\n",
            "i=130000, lr=0.01, loss_dev=2.274909496307373\n",
            "i=132000, lr=0.01, loss_dev=2.2716517448425293\n",
            "i=134000, lr=0.01, loss_dev=2.261660575866699\n",
            "i=136000, lr=0.01, loss_dev=2.248049736022949\n",
            "i=138000, lr=0.01, loss_dev=2.268817186355591\n",
            "i=140000, lr=0.01, loss_dev=2.2767367362976074\n",
            "i=142000, lr=0.01, loss_dev=2.269176721572876\n",
            "i=144000, lr=0.01, loss_dev=2.313652276992798\n",
            "i=146000, lr=0.01, loss_dev=2.265836715698242\n",
            "i=148000, lr=0.01, loss_dev=2.2507944107055664\n",
            "i=150000, lr=0.01, loss_dev=2.258333444595337\n",
            "i=152000, lr=0.01, loss_dev=2.276089906692505\n",
            "i=154000, lr=0.01, loss_dev=2.2822630405426025\n",
            "i=156000, lr=0.01, loss_dev=2.258357286453247\n",
            "i=158000, lr=0.01, loss_dev=2.2580819129943848\n",
            "i=160000, lr=0.01, loss_dev=2.2433114051818848\n",
            "i=162000, lr=0.01, loss_dev=2.308227777481079\n",
            "i=164000, lr=0.01, loss_dev=2.251718282699585\n",
            "i=166000, lr=0.01, loss_dev=2.338404417037964\n",
            "i=168000, lr=0.01, loss_dev=2.2329933643341064\n",
            "i=170000, lr=0.01, loss_dev=2.2514939308166504\n",
            "i=172000, lr=0.01, loss_dev=2.314729690551758\n",
            "i=174000, lr=0.01, loss_dev=2.260150194168091\n",
            "i=176000, lr=0.01, loss_dev=2.279132127761841\n",
            "i=178000, lr=0.01, loss_dev=2.264418601989746\n",
            "i=180000, lr=0.01, loss_dev=2.2876176834106445\n",
            "i=182000, lr=0.01, loss_dev=2.2498233318328857\n",
            "i=184000, lr=0.01, loss_dev=2.263201951980591\n",
            "i=186000, lr=0.01, loss_dev=2.2634642124176025\n",
            "i=188000, lr=0.01, loss_dev=2.3266003131866455\n",
            "i=190000, lr=0.01, loss_dev=2.3036439418792725\n",
            "i=192000, lr=0.01, loss_dev=2.2656290531158447\n",
            "i=194000, lr=0.01, loss_dev=2.2685182094573975\n",
            "i=196000, lr=0.01, loss_dev=2.276804208755493\n",
            "i=198000, lr=0.01, loss_dev=2.2798585891723633\n",
            "Final dev loss: 2.2732484340667725\n",
            "Final test loss: 2.268199920654297\n"
          ]
        }
      ]
    },
    {
      "cell_type": "code",
      "source": [
        "plt.plot([i for i in range(len(lossi))], lossi)"
      ],
      "metadata": {
        "colab": {
          "base_uri": "https://localhost:8080/",
          "height": 283
        },
        "id": "jLgPW_LaVhYx",
        "outputId": "d3b2ff5f-cc71-4bca-f70e-f2e051f96260"
      },
      "execution_count": 68,
      "outputs": [
        {
          "output_type": "execute_result",
          "data": {
            "text/plain": [
              "[<matplotlib.lines.Line2D at 0x7f5a9e383b80>]"
            ]
          },
          "metadata": {},
          "execution_count": 68
        },
        {
          "output_type": "display_data",
          "data": {
            "text/plain": [
              "<Figure size 432x288 with 1 Axes>"
            ],
            "image/png": "[encoded data removed]"
          },
          "metadata": {
            "needs_background": "light"
          }
        }
      ]
    },
    {
      "cell_type": "code",
      "source": [
        "n_words = 15\n",
        "g = torch.Generator().manual_seed(42)\n",
        "max_word_len = 20\n",
        "for _ in range(n_words):\n",
        "    context = [0] * block_size\n",
        "    losses = []\n",
        "    for _ in range(max_word_len):\n",
        "        x = torch.tensor(context[-block_size:]).view(1, block_size)\n",
        "        emb = C[x].view(-1, n_embd * block_size)\n",
        "        h = torch.tanh(emb @ W1 + b1)\n",
        "        logits = h @ W2 + b2\n",
        "        probs = F.softmax(logits, dim=1)\n",
        "        next_char = torch.multinomial(probs, num_samples=1, replacement=True, generator=g).item()\n",
        "        context.append(next_char)\n",
        "        losses.append(-probs[0, next_char].log().mean().item())\n",
        "        if next_char == 0:\n",
        "            break\n",
        "    gen_chars = context[3:]\n",
        "    gen_word = ''.join(map(itos.get, gen_chars))\n",
        "    print(f'{gen_word:<{max_word_len}} {sum(losses) / len(losses):.2f}')"
      ],
      "metadata": {
        "colab": {
          "base_uri": "https://localhost:8080/"
        },
        "id": "JToCqj4xYl5I",
        "outputId": "4f44de79-6a92-4094-9abb-54ee4d12ba58"
      },
      "execution_count": 70,
      "outputs": [
        {
          "output_type": "stream",
          "name": "stdout",
          "text": [
            "abdanevoan.          2.45\n",
            "journ.               1.77\n",
            "mik.                 1.94\n",
            "mar.                 1.68\n",
            "aya.                 1.79\n",
            "alee.                1.58\n",
            "liu.                 3.30\n",
            "hay.                 1.98\n",
            "jayse.               1.51\n",
            "mira.                1.24\n",
            "khyah.               1.80\n",
            "davereelyn.          1.91\n",
            "julai.               2.31\n",
            "jeharne.             1.94\n",
            "sydn.                2.27\n"
          ]
        }
      ]
    }
  ]
}