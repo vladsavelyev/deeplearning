{
 "nbformat": 4,
 "nbformat_minor": 0,
 "metadata": {
  "colab": {
   "provenance": [],
   "mount_file_id": "18TJM9SSO7I42ooJfww8kB7Drc9cXeQHx",
   "authorship_tag": "ABX9TyOIilv75GB/UBPSom0rZT7t",
   "include_colab_link": true
  },
  "kernelspec": {
   "name": "python3",
   "display_name": "Python 3"
  },
  "language_info": {
   "name": "python"
  },
  "gpuClass": "premium",
  "widgets": {
   "application/vnd.jupyter.widget-state+json": {
    "84a58198ea184f17b48549fd6739a035": {
     "model_module": "@jupyter-widgets/controls",
     "model_name": "HBoxModel",
     "model_module_version": "1.5.0",
     "state": {
      "_dom_classes": [],
      "_model_module": "@jupyter-widgets/controls",
      "_model_module_version": "1.5.0",
      "_model_name": "HBoxModel",
      "_view_count": null,
      "_view_module": "@jupyter-widgets/controls",
      "_view_module_version": "1.5.0",
      "_view_name": "HBoxView",
      "box_style": "",
      "children": [
       "IPY_MODEL_5e384967d6554b6394fe7bdf4f3509c7",
       "IPY_MODEL_be84e6ec8228439681b41abd613b2bb7",
       "IPY_MODEL_5bf05c5819bb41658e3816f6312fb5c2"
      ],
      "layout": "IPY_MODEL_dfa4af6da66e477f933edac37ca0fc1a"
     }
    },
    "5e384967d6554b6394fe7bdf4f3509c7": {
     "model_module": "@jupyter-widgets/controls",
     "model_name": "HTMLModel",
     "model_module_version": "1.5.0",
     "state": {
      "_dom_classes": [],
      "_model_module": "@jupyter-widgets/controls",
      "_model_module_version": "1.5.0",
      "_model_name": "HTMLModel",
      "_view_count": null,
      "_view_module": "@jupyter-widgets/controls",
      "_view_module_version": "1.5.0",
      "_view_name": "HTMLView",
      "description": "",
      "description_tooltip": null,
      "layout": "IPY_MODEL_d07b7dd72900464a98629fe587258198",
      "placeholder": "​",
      "style": "IPY_MODEL_07011d262b9b453ea32245af8cff74db",
      "value": "Downloading (…)lve/main/config.json: 100%"
     }
    },
    "be84e6ec8228439681b41abd613b2bb7": {
     "model_module": "@jupyter-widgets/controls",
     "model_name": "FloatProgressModel",
     "model_module_version": "1.5.0",
     "state": {
      "_dom_classes": [],
      "_model_module": "@jupyter-widgets/controls",
      "_model_module_version": "1.5.0",
      "_model_name": "FloatProgressModel",
      "_view_count": null,
      "_view_module": "@jupyter-widgets/controls",
      "_view_module_version": "1.5.0",
      "_view_name": "ProgressView",
      "bar_style": "success",
      "description": "",
      "description_tooltip": null,
      "layout": "IPY_MODEL_2bc8a95b02984f00875e226302a930bb",
      "max": 608,
      "min": 0,
      "orientation": "horizontal",
      "style": "IPY_MODEL_626e9524385246799e17034e496b6db9",
      "value": 608
     }
    },
    "5bf05c5819bb41658e3816f6312fb5c2": {
     "model_module": "@jupyter-widgets/controls",
     "model_name": "HTMLModel",
     "model_module_version": "1.5.0",
     "state": {
      "_dom_classes": [],
      "_model_module": "@jupyter-widgets/controls",
      "_model_module_version": "1.5.0",
      "_model_name": "HTMLModel",
      "_view_count": null,
      "_view_module": "@jupyter-widgets/controls",
      "_view_module_version": "1.5.0",
      "_view_name": "HTMLView",
      "description": "",
      "description_tooltip": null,
      "layout": "IPY_MODEL_9eb5731b05c342b1a80db19f53471895",
      "placeholder": "​",
      "style": "IPY_MODEL_91fa33a30faa4a1b83ea6fb1c8635d20",
      "value": " 608/608 [00:00&lt;00:00, 30.0kB/s]"
     }
    },
    "dfa4af6da66e477f933edac37ca0fc1a": {
     "model_module": "@jupyter-widgets/base",
     "model_name": "LayoutModel",
     "model_module_version": "1.2.0",
     "state": {
      "_model_module": "@jupyter-widgets/base",
      "_model_module_version": "1.2.0",
      "_model_name": "LayoutModel",
      "_view_count": null,
      "_view_module": "@jupyter-widgets/base",
      "_view_module_version": "1.2.0",
      "_view_name": "LayoutView",
      "align_content": null,
      "align_items": null,
      "align_self": null,
      "border": null,
      "bottom": null,
      "display": null,
      "flex": null,
      "flex_flow": null,
      "grid_area": null,
      "grid_auto_columns": null,
      "grid_auto_flow": null,
      "grid_auto_rows": null,
      "grid_column": null,
      "grid_gap": null,
      "grid_row": null,
      "grid_template_areas": null,
      "grid_template_columns": null,
      "grid_template_rows": null,
      "height": null,
      "justify_content": null,
      "justify_items": null,
      "left": null,
      "margin": null,
      "max_height": null,
      "max_width": null,
      "min_height": null,
      "min_width": null,
      "object_fit": null,
      "object_position": null,
      "order": null,
      "overflow": null,
      "overflow_x": null,
      "overflow_y": null,
      "padding": null,
      "right": null,
      "top": null,
      "visibility": null,
      "width": null
     }
    },
    "d07b7dd72900464a98629fe587258198": {
     "model_module": "@jupyter-widgets/base",
     "model_name": "LayoutModel",
     "model_module_version": "1.2.0",
     "state": {
      "_model_module": "@jupyter-widgets/base",
      "_model_module_version": "1.2.0",
      "_model_name": "LayoutModel",
      "_view_count": null,
      "_view_module": "@jupyter-widgets/base",
      "_view_module_version": "1.2.0",
      "_view_name": "LayoutView",
      "align_content": null,
      "align_items": null,
      "align_self": null,
      "border": null,
      "bottom": null,
      "display": null,
      "flex": null,
      "flex_flow": null,
      "grid_area": null,
      "grid_auto_columns": null,
      "grid_auto_flow": null,
      "grid_auto_rows": null,
      "grid_column": null,
      "grid_gap": null,
      "grid_row": null,
      "grid_template_areas": null,
      "grid_template_columns": null,
      "grid_template_rows": null,
      "height": null,
      "justify_content": null,
      "justify_items": null,
      "left": null,
      "margin": null,
      "max_height": null,
      "max_width": null,
      "min_height": null,
      "min_width": null,
      "object_fit": null,
      "object_position": null,
      "order": null,
      "overflow": null,
      "overflow_x": null,
      "overflow_y": null,
      "padding": null,
      "right": null,
      "top": null,
      "visibility": null,
      "width": null
     }
    },
    "07011d262b9b453ea32245af8cff74db": {
     "model_module": "@jupyter-widgets/controls",
     "model_name": "DescriptionStyleModel",
     "model_module_version": "1.5.0",
     "state": {
      "_model_module": "@jupyter-widgets/controls",
      "_model_module_version": "1.5.0",
      "_model_name": "DescriptionStyleModel",
      "_view_count": null,
      "_view_module": "@jupyter-widgets/base",
      "_view_module_version": "1.2.0",
      "_view_name": "StyleView",
      "description_width": ""
     }
    },
    "2bc8a95b02984f00875e226302a930bb": {
     "model_module": "@jupyter-widgets/base",
     "model_name": "LayoutModel",
     "model_module_version": "1.2.0",
     "state": {
      "_model_module": "@jupyter-widgets/base",
      "_model_module_version": "1.2.0",
      "_model_name": "LayoutModel",
      "_view_count": null,
      "_view_module": "@jupyter-widgets/base",
      "_view_module_version": "1.2.0",
      "_view_name": "LayoutView",
      "align_content": null,
      "align_items": null,
      "align_self": null,
      "border": null,
      "bottom": null,
      "display": null,
      "flex": null,
      "flex_flow": null,
      "grid_area": null,
      "grid_auto_columns": null,
      "grid_auto_flow": null,
      "grid_auto_rows": null,
      "grid_column": null,
      "grid_gap": null,
      "grid_row": null,
      "grid_template_areas": null,
      "grid_template_columns": null,
      "grid_template_rows": null,
      "height": null,
      "justify_content": null,
      "justify_items": null,
      "left": null,
      "margin": null,
      "max_height": null,
      "max_width": null,
      "min_height": null,
      "min_width": null,
      "object_fit": null,
      "object_position": null,
      "order": null,
      "overflow": null,
      "overflow_x": null,
      "overflow_y": null,
      "padding": null,
      "right": null,
      "top": null,
      "visibility": null,
      "width": null
     }
    },
    "626e9524385246799e17034e496b6db9": {
     "model_module": "@jupyter-widgets/controls",
     "model_name": "ProgressStyleModel",
     "model_module_version": "1.5.0",
     "state": {
      "_model_module": "@jupyter-widgets/controls",
      "_model_module_version": "1.5.0",
      "_model_name": "ProgressStyleModel",
      "_view_count": null,
      "_view_module": "@jupyter-widgets/base",
      "_view_module_version": "1.2.0",
      "_view_name": "StyleView",
      "bar_color": null,
      "description_width": ""
     }
    },
    "9eb5731b05c342b1a80db19f53471895": {
     "model_module": "@jupyter-widgets/base",
     "model_name": "LayoutModel",
     "model_module_version": "1.2.0",
     "state": {
      "_model_module": "@jupyter-widgets/base",
      "_model_module_version": "1.2.0",
      "_model_name": "LayoutModel",
      "_view_count": null,
      "_view_module": "@jupyter-widgets/base",
      "_view_module_version": "1.2.0",
      "_view_name": "LayoutView",
      "align_content": null,
      "align_items": null,
      "align_self": null,
      "border": null,
      "bottom": null,
      "display": null,
      "flex": null,
      "flex_flow": null,
      "grid_area": null,
      "grid_auto_columns": null,
      "grid_auto_flow": null,
      "grid_auto_rows": null,
      "grid_column": null,
      "grid_gap": null,
      "grid_row": null,
      "grid_template_areas": null,
      "grid_template_columns": null,
      "grid_template_rows": null,
      "height": null,
      "justify_content": null,
      "justify_items": null,
      "left": null,
      "margin": null,
      "max_height": null,
      "max_width": null,
      "min_height": null,
      "min_width": null,
      "object_fit": null,
      "object_position": null,
      "order": null,
      "overflow": null,
      "overflow_x": null,
      "overflow_y": null,
      "padding": null,
      "right": null,
      "top": null,
      "visibility": null,
      "width": null
     }
    },
    "91fa33a30faa4a1b83ea6fb1c8635d20": {
     "model_module": "@jupyter-widgets/controls",
     "model_name": "DescriptionStyleModel",
     "model_module_version": "1.5.0",
     "state": {
      "_model_module": "@jupyter-widgets/controls",
      "_model_module_version": "1.5.0",
      "_model_name": "DescriptionStyleModel",
      "_view_count": null,
      "_view_module": "@jupyter-widgets/base",
      "_view_module_version": "1.2.0",
      "_view_name": "StyleView",
      "description_width": ""
     }
    },
    "d420ed3dd70d455fa9f6eaa828edfe96": {
     "model_module": "@jupyter-widgets/controls",
     "model_name": "HBoxModel",
     "model_module_version": "1.5.0",
     "state": {
      "_dom_classes": [],
      "_model_module": "@jupyter-widgets/controls",
      "_model_module_version": "1.5.0",
      "_model_name": "HBoxModel",
      "_view_count": null,
      "_view_module": "@jupyter-widgets/controls",
      "_view_module_version": "1.5.0",
      "_view_name": "HBoxView",
      "box_style": "",
      "children": [
       "IPY_MODEL_b628e2e5ad3a4092bf20892075ece40b",
       "IPY_MODEL_029a338c011647dbac91672f06a45b6e",
       "IPY_MODEL_3d7603a4d67748f1b7831b574b332c1c"
      ],
      "layout": "IPY_MODEL_e6aca418872940b3be70998e5fd3212b"
     }
    },
    "b628e2e5ad3a4092bf20892075ece40b": {
     "model_module": "@jupyter-widgets/controls",
     "model_name": "HTMLModel",
     "model_module_version": "1.5.0",
     "state": {
      "_dom_classes": [],
      "_model_module": "@jupyter-widgets/controls",
      "_model_module_version": "1.5.0",
      "_model_name": "HTMLModel",
      "_view_count": null,
      "_view_module": "@jupyter-widgets/controls",
      "_view_module_version": "1.5.0",
      "_view_name": "HTMLView",
      "description": "",
      "description_tooltip": null,
      "layout": "IPY_MODEL_10f8de4c53a140e2b2ba9c2f427d10e9",
      "placeholder": "​",
      "style": "IPY_MODEL_fc107643c8224dba8ad79def8664ff70",
      "value": "Downloading (…)olve/main/vocab.json: 100%"
     }
    },
    "029a338c011647dbac91672f06a45b6e": {
     "model_module": "@jupyter-widgets/controls",
     "model_name": "FloatProgressModel",
     "model_module_version": "1.5.0",
     "state": {
      "_dom_classes": [],
      "_model_module": "@jupyter-widgets/controls",
      "_model_module_version": "1.5.0",
      "_model_name": "FloatProgressModel",
      "_view_count": null,
      "_view_module": "@jupyter-widgets/controls",
      "_view_module_version": "1.5.0",
      "_view_name": "ProgressView",
      "bar_style": "success",
      "description": "",
      "description_tooltip": null,
      "layout": "IPY_MODEL_9c5b218229424035a0c97aeb00d3f523",
      "max": 1713123,
      "min": 0,
      "orientation": "horizontal",
      "style": "IPY_MODEL_ef0ec6f66d714540b5c441b420a2fea5",
      "value": 1713123
     }
    },
    "3d7603a4d67748f1b7831b574b332c1c": {
     "model_module": "@jupyter-widgets/controls",
     "model_name": "HTMLModel",
     "model_module_version": "1.5.0",
     "state": {
      "_dom_classes": [],
      "_model_module": "@jupyter-widgets/controls",
      "_model_module_version": "1.5.0",
      "_model_name": "HTMLModel",
      "_view_count": null,
      "_view_module": "@jupyter-widgets/controls",
      "_view_module_version": "1.5.0",
      "_view_name": "HTMLView",
      "description": "",
      "description_tooltip": null,
      "layout": "IPY_MODEL_b63429d526214e88922987847a9b6e53",
      "placeholder": "​",
      "style": "IPY_MODEL_3afc9b91d0044651bae4509c787c4b8a",
      "value": " 1.71M/1.71M [00:01&lt;00:00, 1.26MB/s]"
     }
    },
    "e6aca418872940b3be70998e5fd3212b": {
     "model_module": "@jupyter-widgets/base",
     "model_name": "LayoutModel",
     "model_module_version": "1.2.0",
     "state": {
      "_model_module": "@jupyter-widgets/base",
      "_model_module_version": "1.2.0",
      "_model_name": "LayoutModel",
      "_view_count": null,
      "_view_module": "@jupyter-widgets/base",
      "_view_module_version": "1.2.0",
      "_view_name": "LayoutView",
      "align_content": null,
      "align_items": null,
      "align_self": null,
      "border": null,
      "bottom": null,
      "display": null,
      "flex": null,
      "flex_flow": null,
      "grid_area": null,
      "grid_auto_columns": null,
      "grid_auto_flow": null,
      "grid_auto_rows": null,
      "grid_column": null,
      "grid_gap": null,
      "grid_row": null,
      "grid_template_areas": null,
      "grid_template_columns": null,
      "grid_template_rows": null,
      "height": null,
      "justify_content": null,
      "justify_items": null,
      "left": null,
      "margin": null,
      "max_height": null,
      "max_width": null,
      "min_height": null,
      "min_width": null,
      "object_fit": null,
      "object_position": null,
      "order": null,
      "overflow": null,
      "overflow_x": null,
      "overflow_y": null,
      "padding": null,
      "right": null,
      "top": null,
      "visibility": null,
      "width": null
     }
    },
    "10f8de4c53a140e2b2ba9c2f427d10e9": {
     "model_module": "@jupyter-widgets/base",
     "model_name": "LayoutModel",
     "model_module_version": "1.2.0",
     "state": {
      "_model_module": "@jupyter-widgets/base",
      "_model_module_version": "1.2.0",
      "_model_name": "LayoutModel",
      "_view_count": null,
      "_view_module": "@jupyter-widgets/base",
      "_view_module_version": "1.2.0",
      "_view_name": "LayoutView",
      "align_content": null,
      "align_items": null,
      "align_self": null,
      "border": null,
      "bottom": null,
      "display": null,
      "flex": null,
      "flex_flow": null,
      "grid_area": null,
      "grid_auto_columns": null,
      "grid_auto_flow": null,
      "grid_auto_rows": null,
      "grid_column": null,
      "grid_gap": null,
      "grid_row": null,
      "grid_template_areas": null,
      "grid_template_columns": null,
      "grid_template_rows": null,
      "height": null,
      "justify_content": null,
      "justify_items": null,
      "left": null,
      "margin": null,
      "max_height": null,
      "max_width": null,
      "min_height": null,
      "min_width": null,
      "object_fit": null,
      "object_position": null,
      "order": null,
      "overflow": null,
      "overflow_x": null,
      "overflow_y": null,
      "padding": null,
      "right": null,
      "top": null,
      "visibility": null,
      "width": null
     }
    },
    "fc107643c8224dba8ad79def8664ff70": {
     "model_module": "@jupyter-widgets/controls",
     "model_name": "DescriptionStyleModel",
     "model_module_version": "1.5.0",
     "state": {
      "_model_module": "@jupyter-widgets/controls",
      "_model_module_version": "1.5.0",
      "_model_name": "DescriptionStyleModel",
      "_view_count": null,
      "_view_module": "@jupyter-widgets/base",
      "_view_module_version": "1.2.0",
      "_view_name": "StyleView",
      "description_width": ""
     }
    },
    "9c5b218229424035a0c97aeb00d3f523": {
     "model_module": "@jupyter-widgets/base",
     "model_name": "LayoutModel",
     "model_module_version": "1.2.0",
     "state": {
      "_model_module": "@jupyter-widgets/base",
      "_model_module_version": "1.2.0",
      "_model_name": "LayoutModel",
      "_view_count": null,
      "_view_module": "@jupyter-widgets/base",
      "_view_module_version": "1.2.0",
      "_view_name": "LayoutView",
      "align_content": null,
      "align_items": null,
      "align_self": null,
      "border": null,
      "bottom": null,
      "display": null,
      "flex": null,
      "flex_flow": null,
      "grid_area": null,
      "grid_auto_columns": null,
      "grid_auto_flow": null,
      "grid_auto_rows": null,
      "grid_column": null,
      "grid_gap": null,
      "grid_row": null,
      "grid_template_areas": null,
      "grid_template_columns": null,
      "grid_template_rows": null,
      "height": null,
      "justify_content": null,
      "justify_items": null,
      "left": null,
      "margin": null,
      "max_height": null,
      "max_width": null,
      "min_height": null,
      "min_width": null,
      "object_fit": null,
      "object_position": null,
      "order": null,
      "overflow": null,
      "overflow_x": null,
      "overflow_y": null,
      "padding": null,
      "right": null,
      "top": null,
      "visibility": null,
      "width": null
     }
    },
    "ef0ec6f66d714540b5c441b420a2fea5": {
     "model_module": "@jupyter-widgets/controls",
     "model_name": "ProgressStyleModel",
     "model_module_version": "1.5.0",
     "state": {
      "_model_module": "@jupyter-widgets/controls",
      "_model_module_version": "1.5.0",
      "_model_name": "ProgressStyleModel",
      "_view_count": null,
      "_view_module": "@jupyter-widgets/base",
      "_view_module_version": "1.2.0",
      "_view_name": "StyleView",
      "bar_color": null,
      "description_width": ""
     }
    },
    "b63429d526214e88922987847a9b6e53": {
     "model_module": "@jupyter-widgets/base",
     "model_name": "LayoutModel",
     "model_module_version": "1.2.0",
     "state": {
      "_model_module": "@jupyter-widgets/base",
      "_model_module_version": "1.2.0",
      "_model_name": "LayoutModel",
      "_view_count": null,
      "_view_module": "@jupyter-widgets/base",
      "_view_module_version": "1.2.0",
      "_view_name": "LayoutView",
      "align_content": null,
      "align_items": null,
      "align_self": null,
      "border": null,
      "bottom": null,
      "display": null,
      "flex": null,
      "flex_flow": null,
      "grid_area": null,
      "grid_auto_columns": null,
      "grid_auto_flow": null,
      "grid_auto_rows": null,
      "grid_column": null,
      "grid_gap": null,
      "grid_row": null,
      "grid_template_areas": null,
      "grid_template_columns": null,
      "grid_template_rows": null,
      "height": null,
      "justify_content": null,
      "justify_items": null,
      "left": null,
      "margin": null,
      "max_height": null,
      "max_width": null,
      "min_height": null,
      "min_width": null,
      "object_fit": null,
      "object_position": null,
      "order": null,
      "overflow": null,
      "overflow_x": null,
      "overflow_y": null,
      "padding": null,
      "right": null,
      "top": null,
      "visibility": null,
      "width": null
     }
    },
    "3afc9b91d0044651bae4509c787c4b8a": {
     "model_module": "@jupyter-widgets/controls",
     "model_name": "DescriptionStyleModel",
     "model_module_version": "1.5.0",
     "state": {
      "_model_module": "@jupyter-widgets/controls",
      "_model_module_version": "1.5.0",
      "_model_name": "DescriptionStyleModel",
      "_view_count": null,
      "_view_module": "@jupyter-widgets/base",
      "_view_module_version": "1.2.0",
      "_view_name": "StyleView",
      "description_width": ""
     }
    },
    "447e6734460c4df3b1c0992f8bc4a8f2": {
     "model_module": "@jupyter-widgets/controls",
     "model_name": "HBoxModel",
     "model_module_version": "1.5.0",
     "state": {
      "_dom_classes": [],
      "_model_module": "@jupyter-widgets/controls",
      "_model_module_version": "1.5.0",
      "_model_name": "HBoxModel",
      "_view_count": null,
      "_view_module": "@jupyter-widgets/controls",
      "_view_module_version": "1.5.0",
      "_view_name": "HBoxView",
      "box_style": "",
      "children": [
       "IPY_MODEL_507e84c9d0af40d19b51d87a49977b7c",
       "IPY_MODEL_c64b953965cb4473b406bff34be388c6",
       "IPY_MODEL_2e0088fc3f444b34a729f847d76a3c45"
      ],
      "layout": "IPY_MODEL_5c66096898174f958de4203c0561e029"
     }
    },
    "507e84c9d0af40d19b51d87a49977b7c": {
     "model_module": "@jupyter-widgets/controls",
     "model_name": "HTMLModel",
     "model_module_version": "1.5.0",
     "state": {
      "_dom_classes": [],
      "_model_module": "@jupyter-widgets/controls",
      "_model_module_version": "1.5.0",
      "_model_name": "HTMLModel",
      "_view_count": null,
      "_view_module": "@jupyter-widgets/controls",
      "_view_module_version": "1.5.0",
      "_view_name": "HTMLView",
      "description": "",
      "description_tooltip": null,
      "layout": "IPY_MODEL_62db12d2dc5e41ed800340725685f5b7",
      "placeholder": "​",
      "style": "IPY_MODEL_f99ddf6a9b07419daa7feb34a3ddc2e1",
      "value": "Downloading (…)olve/main/merges.txt: 100%"
     }
    },
    "c64b953965cb4473b406bff34be388c6": {
     "model_module": "@jupyter-widgets/controls",
     "model_name": "FloatProgressModel",
     "model_module_version": "1.5.0",
     "state": {
      "_dom_classes": [],
      "_model_module": "@jupyter-widgets/controls",
      "_model_module_version": "1.5.0",
      "_model_name": "FloatProgressModel",
      "_view_count": null,
      "_view_module": "@jupyter-widgets/controls",
      "_view_module_version": "1.5.0",
      "_view_name": "ProgressView",
      "bar_style": "success",
      "description": "",
      "description_tooltip": null,
      "layout": "IPY_MODEL_c4fb29495b7f4b00bf542cafcf21598c",
      "max": 1270925,
      "min": 0,
      "orientation": "horizontal",
      "style": "IPY_MODEL_773699b79327482bb2b9f6ffd68cec24",
      "value": 1270925
     }
    },
    "2e0088fc3f444b34a729f847d76a3c45": {
     "model_module": "@jupyter-widgets/controls",
     "model_name": "HTMLModel",
     "model_module_version": "1.5.0",
     "state": {
      "_dom_classes": [],
      "_model_module": "@jupyter-widgets/controls",
      "_model_module_version": "1.5.0",
      "_model_name": "HTMLModel",
      "_view_count": null,
      "_view_module": "@jupyter-widgets/controls",
      "_view_module_version": "1.5.0",
      "_view_name": "HTMLView",
      "description": "",
      "description_tooltip": null,
      "layout": "IPY_MODEL_e4f6e293257244e392c15c95c9b45ff7",
      "placeholder": "​",
      "style": "IPY_MODEL_e78a52d460194040826c1f881213aef7",
      "value": " 1.27M/1.27M [00:01&lt;00:00, 1.13MB/s]"
     }
    },
    "5c66096898174f958de4203c0561e029": {
     "model_module": "@jupyter-widgets/base",
     "model_name": "LayoutModel",
     "model_module_version": "1.2.0",
     "state": {
      "_model_module": "@jupyter-widgets/base",
      "_model_module_version": "1.2.0",
      "_model_name": "LayoutModel",
      "_view_count": null,
      "_view_module": "@jupyter-widgets/base",
      "_view_module_version": "1.2.0",
      "_view_name": "LayoutView",
      "align_content": null,
      "align_items": null,
      "align_self": null,
      "border": null,
      "bottom": null,
      "display": null,
      "flex": null,
      "flex_flow": null,
      "grid_area": null,
      "grid_auto_columns": null,
      "grid_auto_flow": null,
      "grid_auto_rows": null,
      "grid_column": null,
      "grid_gap": null,
      "grid_row": null,
      "grid_template_areas": null,
      "grid_template_columns": null,
      "grid_template_rows": null,
      "height": null,
      "justify_content": null,
      "justify_items": null,
      "left": null,
      "margin": null,
      "max_height": null,
      "max_width": null,
      "min_height": null,
      "min_width": null,
      "object_fit": null,
      "object_position": null,
      "order": null,
      "overflow": null,
      "overflow_x": null,
      "overflow_y": null,
      "padding": null,
      "right": null,
      "top": null,
      "visibility": null,
      "width": null
     }
    },
    "62db12d2dc5e41ed800340725685f5b7": {
     "model_module": "@jupyter-widgets/base",
     "model_name": "LayoutModel",
     "model_module_version": "1.2.0",
     "state": {
      "_model_module": "@jupyter-widgets/base",
      "_model_module_version": "1.2.0",
      "_model_name": "LayoutModel",
      "_view_count": null,
      "_view_module": "@jupyter-widgets/base",
      "_view_module_version": "1.2.0",
      "_view_name": "LayoutView",
      "align_content": null,
      "align_items": null,
      "align_self": null,
      "border": null,
      "bottom": null,
      "display": null,
      "flex": null,
      "flex_flow": null,
      "grid_area": null,
      "grid_auto_columns": null,
      "grid_auto_flow": null,
      "grid_auto_rows": null,
      "grid_column": null,
      "grid_gap": null,
      "grid_row": null,
      "grid_template_areas": null,
      "grid_template_columns": null,
      "grid_template_rows": null,
      "height": null,
      "justify_content": null,
      "justify_items": null,
      "left": null,
      "margin": null,
      "max_height": null,
      "max_width": null,
      "min_height": null,
      "min_width": null,
      "object_fit": null,
      "object_position": null,
      "order": null,
      "overflow": null,
      "overflow_x": null,
      "overflow_y": null,
      "padding": null,
      "right": null,
      "top": null,
      "visibility": null,
      "width": null
     }
    },
    "f99ddf6a9b07419daa7feb34a3ddc2e1": {
     "model_module": "@jupyter-widgets/controls",
     "model_name": "DescriptionStyleModel",
     "model_module_version": "1.5.0",
     "state": {
      "_model_module": "@jupyter-widgets/controls",
      "_model_module_version": "1.5.0",
      "_model_name": "DescriptionStyleModel",
      "_view_count": null,
      "_view_module": "@jupyter-widgets/base",
      "_view_module_version": "1.2.0",
      "_view_name": "StyleView",
      "description_width": ""
     }
    },
    "c4fb29495b7f4b00bf542cafcf21598c": {
     "model_module": "@jupyter-widgets/base",
     "model_name": "LayoutModel",
     "model_module_version": "1.2.0",
     "state": {
      "_model_module": "@jupyter-widgets/base",
      "_model_module_version": "1.2.0",
      "_model_name": "LayoutModel",
      "_view_count": null,
      "_view_module": "@jupyter-widgets/base",
      "_view_module_version": "1.2.0",
      "_view_name": "LayoutView",
      "align_content": null,
      "align_items": null,
      "align_self": null,
      "border": null,
      "bottom": null,
      "display": null,
      "flex": null,
      "flex_flow": null,
      "grid_area": null,
      "grid_auto_columns": null,
      "grid_auto_flow": null,
      "grid_auto_rows": null,
      "grid_column": null,
      "grid_gap": null,
      "grid_row": null,
      "grid_template_areas": null,
      "grid_template_columns": null,
      "grid_template_rows": null,
      "height": null,
      "justify_content": null,
      "justify_items": null,
      "left": null,
      "margin": null,
      "max_height": null,
      "max_width": null,
      "min_height": null,
      "min_width": null,
      "object_fit": null,
      "object_position": null,
      "order": null,
      "overflow": null,
      "overflow_x": null,
      "overflow_y": null,
      "padding": null,
      "right": null,
      "top": null,
      "visibility": null,
      "width": null
     }
    },
    "773699b79327482bb2b9f6ffd68cec24": {
     "model_module": "@jupyter-widgets/controls",
     "model_name": "ProgressStyleModel",
     "model_module_version": "1.5.0",
     "state": {
      "_model_module": "@jupyter-widgets/controls",
      "_model_module_version": "1.5.0",
      "_model_name": "ProgressStyleModel",
      "_view_count": null,
      "_view_module": "@jupyter-widgets/base",
      "_view_module_version": "1.2.0",
      "_view_name": "StyleView",
      "bar_color": null,
      "description_width": ""
     }
    },
    "e4f6e293257244e392c15c95c9b45ff7": {
     "model_module": "@jupyter-widgets/base",
     "model_name": "LayoutModel",
     "model_module_version": "1.2.0",
     "state": {
      "_model_module": "@jupyter-widgets/base",
      "_model_module_version": "1.2.0",
      "_model_name": "LayoutModel",
      "_view_count": null,
      "_view_module": "@jupyter-widgets/base",
      "_view_module_version": "1.2.0",
      "_view_name": "LayoutView",
      "align_content": null,
      "align_items": null,
      "align_self": null,
      "border": null,
      "bottom": null,
      "display": null,
      "flex": null,
      "flex_flow": null,
      "grid_area": null,
      "grid_auto_columns": null,
      "grid_auto_flow": null,
      "grid_auto_rows": null,
      "grid_column": null,
      "grid_gap": null,
      "grid_row": null,
      "grid_template_areas": null,
      "grid_template_columns": null,
      "grid_template_rows": null,
      "height": null,
      "justify_content": null,
      "justify_items": null,
      "left": null,
      "margin": null,
      "max_height": null,
      "max_width": null,
      "min_height": null,
      "min_width": null,
      "object_fit": null,
      "object_position": null,
      "order": null,
      "overflow": null,
      "overflow_x": null,
      "overflow_y": null,
      "padding": null,
      "right": null,
      "top": null,
      "visibility": null,
      "width": null
     }
    },
    "e78a52d460194040826c1f881213aef7": {
     "model_module": "@jupyter-widgets/controls",
     "model_name": "DescriptionStyleModel",
     "model_module_version": "1.5.0",
     "state": {
      "_model_module": "@jupyter-widgets/controls",
      "_model_module_version": "1.5.0",
      "_model_name": "DescriptionStyleModel",
      "_view_count": null,
      "_view_module": "@jupyter-widgets/base",
      "_view_module_version": "1.2.0",
      "_view_name": "StyleView",
      "description_width": ""
     }
    },
    "fdd12c9627594edb9b8acc0c247d921a": {
     "model_module": "@jupyter-widgets/controls",
     "model_name": "HBoxModel",
     "model_module_version": "1.5.0",
     "state": {
      "_dom_classes": [],
      "_model_module": "@jupyter-widgets/controls",
      "_model_module_version": "1.5.0",
      "_model_name": "HBoxModel",
      "_view_count": null,
      "_view_module": "@jupyter-widgets/controls",
      "_view_module_version": "1.5.0",
      "_view_name": "HBoxView",
      "box_style": "",
      "children": [
       "IPY_MODEL_59b0097f40774d9995fadc665833ef9a",
       "IPY_MODEL_7b21710ec1e547c1a807b17d3f459825",
       "IPY_MODEL_e622a7d21216449cbcee99c70e745a2f"
      ],
      "layout": "IPY_MODEL_2b8ed1b3822f4421abb17f02ca14cdad"
     }
    },
    "59b0097f40774d9995fadc665833ef9a": {
     "model_module": "@jupyter-widgets/controls",
     "model_name": "HTMLModel",
     "model_module_version": "1.5.0",
     "state": {
      "_dom_classes": [],
      "_model_module": "@jupyter-widgets/controls",
      "_model_module_version": "1.5.0",
      "_model_name": "HTMLModel",
      "_view_count": null,
      "_view_module": "@jupyter-widgets/controls",
      "_view_module_version": "1.5.0",
      "_view_name": "HTMLView",
      "description": "",
      "description_tooltip": null,
      "layout": "IPY_MODEL_0244281f38fa4f4b8428727c289938ca",
      "placeholder": "​",
      "style": "IPY_MODEL_94a3aed076b6463f9cf75c9828e714f5",
      "value": "Downloading pytorch_model.bin: 100%"
     }
    },
    "7b21710ec1e547c1a807b17d3f459825": {
     "model_module": "@jupyter-widgets/controls",
     "model_name": "FloatProgressModel",
     "model_module_version": "1.5.0",
     "state": {
      "_dom_classes": [],
      "_model_module": "@jupyter-widgets/controls",
      "_model_module_version": "1.5.0",
      "_model_name": "FloatProgressModel",
      "_view_count": null,
      "_view_module": "@jupyter-widgets/controls",
      "_view_module_version": "1.5.0",
      "_view_name": "ProgressView",
      "bar_style": "success",
      "description": "",
      "description_tooltip": null,
      "layout": "IPY_MODEL_54f3c065c6d64eb08c2a1650e70ffbe6",
      "max": 551290714,
      "min": 0,
      "orientation": "horizontal",
      "style": "IPY_MODEL_c2b3cda7ac8b4b6bbfa8a106b0abc239",
      "value": 551290714
     }
    },
    "e622a7d21216449cbcee99c70e745a2f": {
     "model_module": "@jupyter-widgets/controls",
     "model_name": "HTMLModel",
     "model_module_version": "1.5.0",
     "state": {
      "_dom_classes": [],
      "_model_module": "@jupyter-widgets/controls",
      "_model_module_version": "1.5.0",
      "_model_name": "HTMLModel",
      "_view_count": null,
      "_view_module": "@jupyter-widgets/controls",
      "_view_module_version": "1.5.0",
      "_view_name": "HTMLView",
      "description": "",
      "description_tooltip": null,
      "layout": "IPY_MODEL_b3b7a38f7a354e4fb215c1baa0fa730b",
      "placeholder": "​",
      "style": "IPY_MODEL_77b83813c3b74ca68e236b0e2218fcfd",
      "value": " 551M/551M [00:05&lt;00:00, 102MB/s]"
     }
    },
    "2b8ed1b3822f4421abb17f02ca14cdad": {
     "model_module": "@jupyter-widgets/base",
     "model_name": "LayoutModel",
     "model_module_version": "1.2.0",
     "state": {
      "_model_module": "@jupyter-widgets/base",
      "_model_module_version": "1.2.0",
      "_model_name": "LayoutModel",
      "_view_count": null,
      "_view_module": "@jupyter-widgets/base",
      "_view_module_version": "1.2.0",
      "_view_name": "LayoutView",
      "align_content": null,
      "align_items": null,
      "align_self": null,
      "border": null,
      "bottom": null,
      "display": null,
      "flex": null,
      "flex_flow": null,
      "grid_area": null,
      "grid_auto_columns": null,
      "grid_auto_flow": null,
      "grid_auto_rows": null,
      "grid_column": null,
      "grid_gap": null,
      "grid_row": null,
      "grid_template_areas": null,
      "grid_template_columns": null,
      "grid_template_rows": null,
      "height": null,
      "justify_content": null,
      "justify_items": null,
      "left": null,
      "margin": null,
      "max_height": null,
      "max_width": null,
      "min_height": null,
      "min_width": null,
      "object_fit": null,
      "object_position": null,
      "order": null,
      "overflow": null,
      "overflow_x": null,
      "overflow_y": null,
      "padding": null,
      "right": null,
      "top": null,
      "visibility": null,
      "width": null
     }
    },
    "0244281f38fa4f4b8428727c289938ca": {
     "model_module": "@jupyter-widgets/base",
     "model_name": "LayoutModel",
     "model_module_version": "1.2.0",
     "state": {
      "_model_module": "@jupyter-widgets/base",
      "_model_module_version": "1.2.0",
      "_model_name": "LayoutModel",
      "_view_count": null,
      "_view_module": "@jupyter-widgets/base",
      "_view_module_version": "1.2.0",
      "_view_name": "LayoutView",
      "align_content": null,
      "align_items": null,
      "align_self": null,
      "border": null,
      "bottom": null,
      "display": null,
      "flex": null,
      "flex_flow": null,
      "grid_area": null,
      "grid_auto_columns": null,
      "grid_auto_flow": null,
      "grid_auto_rows": null,
      "grid_column": null,
      "grid_gap": null,
      "grid_row": null,
      "grid_template_areas": null,
      "grid_template_columns": null,
      "grid_template_rows": null,
      "height": null,
      "justify_content": null,
      "justify_items": null,
      "left": null,
      "margin": null,
      "max_height": null,
      "max_width": null,
      "min_height": null,
      "min_width": null,
      "object_fit": null,
      "object_position": null,
      "order": null,
      "overflow": null,
      "overflow_x": null,
      "overflow_y": null,
      "padding": null,
      "right": null,
      "top": null,
      "visibility": null,
      "width": null
     }
    },
    "94a3aed076b6463f9cf75c9828e714f5": {
     "model_module": "@jupyter-widgets/controls",
     "model_name": "DescriptionStyleModel",
     "model_module_version": "1.5.0",
     "state": {
      "_model_module": "@jupyter-widgets/controls",
      "_model_module_version": "1.5.0",
      "_model_name": "DescriptionStyleModel",
      "_view_count": null,
      "_view_module": "@jupyter-widgets/base",
      "_view_module_version": "1.2.0",
      "_view_name": "StyleView",
      "description_width": ""
     }
    },
    "54f3c065c6d64eb08c2a1650e70ffbe6": {
     "model_module": "@jupyter-widgets/base",
     "model_name": "LayoutModel",
     "model_module_version": "1.2.0",
     "state": {
      "_model_module": "@jupyter-widgets/base",
      "_model_module_version": "1.2.0",
      "_model_name": "LayoutModel",
      "_view_count": null,
      "_view_module": "@jupyter-widgets/base",
      "_view_module_version": "1.2.0",
      "_view_name": "LayoutView",
      "align_content": null,
      "align_items": null,
      "align_self": null,
      "border": null,
      "bottom": null,
      "display": null,
      "flex": null,
      "flex_flow": null,
      "grid_area": null,
      "grid_auto_columns": null,
      "grid_auto_flow": null,
      "grid_auto_rows": null,
      "grid_column": null,
      "grid_gap": null,
      "grid_row": null,
      "grid_template_areas": null,
      "grid_template_columns": null,
      "grid_template_rows": null,
      "height": null,
      "justify_content": null,
      "justify_items": null,
      "left": null,
      "margin": null,
      "max_height": null,
      "max_width": null,
      "min_height": null,
      "min_width": null,
      "object_fit": null,
      "object_position": null,
      "order": null,
      "overflow": null,
      "overflow_x": null,
      "overflow_y": null,
      "padding": null,
      "right": null,
      "top": null,
      "visibility": null,
      "width": null
     }
    },
    "c2b3cda7ac8b4b6bbfa8a106b0abc239": {
     "model_module": "@jupyter-widgets/controls",
     "model_name": "ProgressStyleModel",
     "model_module_version": "1.5.0",
     "state": {
      "_model_module": "@jupyter-widgets/controls",
      "_model_module_version": "1.5.0",
      "_model_name": "ProgressStyleModel",
      "_view_count": null,
      "_view_module": "@jupyter-widgets/base",
      "_view_module_version": "1.2.0",
      "_view_name": "StyleView",
      "bar_color": null,
      "description_width": ""
     }
    },
    "b3b7a38f7a354e4fb215c1baa0fa730b": {
     "model_module": "@jupyter-widgets/base",
     "model_name": "LayoutModel",
     "model_module_version": "1.2.0",
     "state": {
      "_model_module": "@jupyter-widgets/base",
      "_model_module_version": "1.2.0",
      "_model_name": "LayoutModel",
      "_view_count": null,
      "_view_module": "@jupyter-widgets/base",
      "_view_module_version": "1.2.0",
      "_view_name": "LayoutView",
      "align_content": null,
      "align_items": null,
      "align_self": null,
      "border": null,
      "bottom": null,
      "display": null,
      "flex": null,
      "flex_flow": null,
      "grid_area": null,
      "grid_auto_columns": null,
      "grid_auto_flow": null,
      "grid_auto_rows": null,
      "grid_column": null,
      "grid_gap": null,
      "grid_row": null,
      "grid_template_areas": null,
      "grid_template_columns": null,
      "grid_template_rows": null,
      "height": null,
      "justify_content": null,
      "justify_items": null,
      "left": null,
      "margin": null,
      "max_height": null,
      "max_width": null,
      "min_height": null,
      "min_width": null,
      "object_fit": null,
      "object_position": null,
      "order": null,
      "overflow": null,
      "overflow_x": null,
      "overflow_y": null,
      "padding": null,
      "right": null,
      "top": null,
      "visibility": null,
      "width": null
     }
    },
    "77b83813c3b74ca68e236b0e2218fcfd": {
     "model_module": "@jupyter-widgets/controls",
     "model_name": "DescriptionStyleModel",
     "model_module_version": "1.5.0",
     "state": {
      "_model_module": "@jupyter-widgets/controls",
      "_model_module_version": "1.5.0",
      "_model_name": "DescriptionStyleModel",
      "_view_count": null,
      "_view_module": "@jupyter-widgets/base",
      "_view_module_version": "1.2.0",
      "_view_name": "StyleView",
      "description_width": ""
     }
    }
   }
  },
  "accelerator": "GPU"
 },
 "cells": [
  {
   "cell_type": "markdown",
   "source": [
    "<a href=\"https://colab.research.google.com/github/vladsavelyev/deeplearning/blob/master/pretgpt/pretgpt.ipynb\" target=\"_parent\"><img src=\"https://colab.research.google.com/assets/colab-badge.svg\" alt=\"Open In Colab\"/></a>"
   ],
   "metadata": {
    "collapsed": false,
    "pycharm": {
     "name": "#%% md\n"
    }
   }
  },
  {
   "cell_type": "code",
   "execution_count": null,
   "outputs": [],
   "source": [
    "from pathlib import Path\n",
    "drive_path = Path(\"/content/drive/MyDrive\")\n",
    "!pip install torch transformers datasets tokenizers evaluate wandb peft"
   ],
   "metadata": {
    "collapsed": false,
    "pycharm": {
     "name": "#%%\n"
    }
   }
  },
  {
   "cell_type": "code",
   "execution_count": null,
   "outputs": [],
   "source": [
    "from pathlib import Path\n",
    "import numpy as np\n",
    "\n",
    "import torch\n",
    "from torch.utils.data import Dataset\n",
    "\n",
    "from transformers import AutoTokenizer, AutoModelForCausalLM\n",
    "from transformers import Trainer, TrainingArguments, TrainerCallback\n",
    "from peft import get_peft_model, LoraConfig, TaskType\n",
    "\n",
    "use_peft = True"
   ],
   "metadata": {
    "collapsed": false,
    "pycharm": {
     "name": "#%%\n"
    }
   }
  },
  {
   "cell_type": "code",
   "execution_count": null,
   "outputs": [],
   "source": [
    "from transformers import AutoModelForCausalLM, AutoTokenizer\n",
    "name = \"sberbank-ai/rugpt3small_based_on_gpt2\"\n",
    "tokenizer = AutoTokenizer.from_pretrained(name)\n",
    "model = AutoModelForCausalLM.from_pretrained(name)\n",
    "print(f\"Model parameters: {model.num_parameters():,}\")\n",
    "if use_peft:\n",
    "    model = get_peft_model(model, LoraConfig(\n",
    "        task_type=TaskType.CAUSAL_LM, \n",
    "        inference_mode=False, \n",
    "        r=8, \n",
    "        lora_alpha=32, \n",
    "        lora_dropout=0.1\n",
    "    ))\n",
    "    print(\"Parameter-efficient fine tuning trainable parameters:\")\n",
    "    model.print_trainable_parameters()\n"
   ],
   "metadata": {
    "collapsed": false,
    "pycharm": {
     "name": "#%%\n"
    }
   }
  },
  {
   "cell_type": "code",
   "execution_count": null,
   "outputs": [],
   "source": [
    "# from transformers import AutoModelForCausalLM, AutoTokenizer\n",
    "# tokenizer = AutoTokenizer.from_pretrained(\"gpt2\")\n",
    "# model = AutoModelForCausalLM.from_pretrained(\"gpt2\")\n",
    "model.config.vocab_size"
   ],
   "metadata": {
    "collapsed": false,
    "pycharm": {
     "name": "#%%\n"
    }
   }
  },
  {
   "cell_type": "code",
   "execution_count": null,
   "outputs": [],
   "source": [
    "len(tokenizer.vocab)"
   ],
   "metadata": {
    "collapsed": false,
    "pycharm": {
     "name": "#%%\n"
    }
   }
  },
  {
   "cell_type": "code",
   "execution_count": null,
   "outputs": [],
   "source": [
    "class TransformerDataset(Dataset):\n",
    "    def __init__(self, token_ids: np.memmap, n_ctx: int):\n",
    "        self.token_ids = token_ids\n",
    "        self.n_ctx = n_ctx\n",
    "\n",
    "    def __getitem__(self, idx):\n",
    "        t = torch.LongTensor(self.token_ids[idx:idx + self.n_ctx])\n",
    "        return {\"input_ids\": t, \"labels\": t}\n",
    "\n",
    "    def __len__(self):\n",
    "        return len(self.token_ids) - self.n_ctx + 1\n",
    "\n",
    "    @staticmethod\n",
    "    def load(path, tokenizer, n_ctx: int, max_n_examples: int = None) -> 'TransformerDataset':\n",
    "        save_path = path.with_suffix(\".token_ids.pt\")\n",
    "        if False and save_path.exists():\n",
    "            print(f\"Loading dataset from {save_path}\")\n",
    "            ids = torch.load(str(save_path))\n",
    "        else:\n",
    "            with open(path, \"r\") as f:\n",
    "                text = f.read()\n",
    "                print(f\"Characters in text: {len(text):,}\")\n",
    "            ids = tokenizer(text, return_tensors=\"pt\")['input_ids'].squeeze().long()\n",
    "            if max_n_examples:\n",
    "                max_tokens = max_n_examples + n_ctx - 1\n",
    "                print(f\"Taking first {max_tokens} tokens to make it {max_n_examples} examples\")\n",
    "                ids = ids[:max_tokens]\n",
    "            eos = torch.tensor([tokenizer.eos_token_id]).long()\n",
    "            ids = torch.concat((ids, eos))\n",
    "            torch.save(ids, save_path)\n",
    "        print(f\"Dataset shape: {ids.shape}\")\n",
    "        return TransformerDataset(ids, n_ctx)\n",
    "\n",
    "\n",
    "test_text_path = drive_path / \"AI\" / \"datasets\" / \"murakami\" / \"murakami_test.txt\"\n",
    "train_text_path = drive_path / \"AI\" / \"datasets\" / \"murakami\" / \"murakami_train.txt\"\n",
    "test_set = TransformerDataset.load(test_text_path, tokenizer, model.config.n_ctx, max_n_examples=100)\n",
    "train_set = TransformerDataset.load(train_text_path, tokenizer, model.config.n_ctx)"
   ],
   "metadata": {
    "collapsed": false,
    "pycharm": {
     "name": "#%%\n"
    }
   }
  },
  {
   "cell_type": "code",
   "execution_count": null,
   "outputs": [],
   "source": [
    "test_set.token_ids.min(), test_set.token_ids.max()"
   ],
   "metadata": {
    "collapsed": false,
    "pycharm": {
     "name": "#%%\n"
    }
   }
  },
  {
   "cell_type": "code",
   "execution_count": null,
   "outputs": [],
   "source": [
    "train_set[0]['input_ids'].shape"
   ],
   "metadata": {
    "collapsed": false,
    "pycharm": {
     "name": "#%%\n"
    }
   }
  },
  {
   "cell_type": "code",
   "execution_count": null,
   "outputs": [],
   "source": [
    "print(f'{sum([p.numel() for p in model.parameters()]):,}')"
   ],
   "metadata": {
    "collapsed": false,
    "pycharm": {
     "name": "#%%\n"
    }
   }
  },
  {
   "cell_type": "code",
   "execution_count": null,
   "outputs": [],
   "source": [
    "model.config.n_ctx"
   ],
   "metadata": {
    "collapsed": false,
    "pycharm": {
     "name": "#%%\n"
    }
   }
  },
  {
   "cell_type": "code",
   "execution_count": null,
   "outputs": [],
   "source": [
    "b = train_set[1000]\n",
    "res = model(input_ids=b['input_ids'].view(1, -1), labels=b['labels'].view(1, -1))\n",
    "print(res['loss'])\n",
    "\n",
    "t = tokenizer(\"Определенно, это случилось с нами не в первый раз\")['input_ids']\n",
    "t = torch.LongTensor(t).view(1, -1)\n",
    "res = model(input_ids=t, labels=t)\n",
    "print(res['loss'])"
   ],
   "metadata": {
    "collapsed": false,
    "pycharm": {
     "name": "#%%\n"
    }
   }
  },
  {
   "cell_type": "code",
   "execution_count": null,
   "outputs": [],
   "source": [
    "from transformers.trainer_utils import get_last_checkpoint\n",
    "\n",
    "save_dir = drive_path / (\"AI/pretgpt/murakami_rugpt3small\" + (\"_peft\" if use_peft else \"\"))\n",
    "save_dir.mkdir(exist_ok=True)\n",
    "if (last_checkpoint_dir := get_last_checkpoint(str(save_dir))):\n",
    "    last_checkpoint_dir = Path(last_checkpoint_dir)\n",
    "    print(last_checkpoint_dir)\n",
    "    print('  '.join(t.name for t in last_checkpoint_dir.iterdir()))"
   ],
   "metadata": {
    "collapsed": false,
    "pycharm": {
     "name": "#%%\n"
    }
   }
  },
  {
   "cell_type": "code",
   "execution_count": null,
   "outputs": [],
   "source": [
    "# from transformers.utils import WEIGHTS_NAME\n",
    "# state_dict = torch.load(str(last_checkpoint_dir / WEIGHTS_NAME), map_location=\"cpu\")\n",
    "# model.load_state_dict(state_dict)"
   ],
   "metadata": {
    "collapsed": false,
    "pycharm": {
     "name": "#%%\n"
    }
   }
  },
  {
   "cell_type": "code",
   "execution_count": null,
   "outputs": [],
   "source": [
    "def sample(num_seqs=5, max_length=20):\n",
    "    torch.manual_seed(100)\n",
    "    torch.cuda.manual_seed_all(100)\n",
    "    for i, seq in enumerate(model.generate(\n",
    "        max_length=max_length,\n",
    "        ### -- my search --\n",
    "        num_return_sequences=num_seqs,\n",
    "        do_sample=True, \n",
    "        top_k=50,\n",
    "        top_p=0.95,\n",
    "        ### -- contrastive search? --\n",
    "        # penalty_alpha=0.6, \n",
    "        # top_k=4,\n",
    "        ### --\n",
    "        pad_token_id=0,\n",
    "        eos_token_id=tokenizer.eos_token_id,\n",
    "        bos_token_id=tokenizer.bos_token_id,\n",
    "    )):\n",
    "        print(i + 1, tokenizer.decode(seq))\n",
    "\n",
    "sample(num_seqs=1, max_length=1000)"
   ],
   "metadata": {
    "collapsed": false,
    "pycharm": {
     "name": "#%%\n"
    }
   }
  },
  {
   "cell_type": "code",
   "execution_count": null,
   "outputs": [],
   "source": [
    "import os\n",
    "os.environ['WANDB_API_KEY'] = '11ef4840a7a0bfa6c0e28d71b539a6696d42bea5'\n",
    "os.environ[\"WANDB_NOTEBOOK_NAME\"] = \"pretgpt\"\n",
    "from importlib import reload\n",
    "import wandb\n",
    "reload(wandb)"
   ],
   "metadata": {
    "collapsed": false,
    "pycharm": {
     "name": "#%%\n"
    }
   }
  },
  {
   "cell_type": "code",
   "execution_count": null,
   "outputs": [],
   "source": [
    "class MyCallback(TrainerCallback):\n",
    "    def on_evaluate(self, args, state, control, **kwargs):\n",
    "        if metrics := kwargs.get(\"metrics\"):\n",
    "            print(f'Eval loss so far: {metrics[\"eval_loss\"]:.4f}')\n",
    "        if state.best_metric:\n",
    "            print(f\"Best loss so far: {state.best_metric:.4f}\")\n",
    "        sample()\n",
    "\n",
    "\n",
    "trainer = Trainer(\n",
    "    model=model,\n",
    "    train_dataset=train_set,\n",
    "    eval_dataset=test_set,\n",
    "    callbacks=[MyCallback],\n",
    "    args=TrainingArguments(\n",
    "        output_dir=str(save_dir),\n",
    "        report_to=['wandb'] if os.getenv(\"WANDB_API_KEY\") else None,\n",
    "        overwrite_output_dir=True,\n",
    "        evaluation_strategy=\"steps\",\n",
    "        eval_steps=1000,\n",
    "        save_steps=1000,\n",
    "        save_total_limit=2,\n",
    "        per_device_train_batch_size=2,\n",
    "        per_device_eval_batch_size=2,\n",
    "        ignore_data_skip=True,\n",
    "    ),\n",
    ")\n",
    "trainer.train(resume_from_checkpoint=last_checkpoint_dir)"
   ],
   "metadata": {
    "collapsed": false,
    "pycharm": {
     "name": "#%%\n"
    }
   }
  },
  {
   "cell_type": "markdown",
   "source": [
    "Parameter-efficient search, 4000 iterations:"
   ],
   "metadata": {
    "collapsed": false,
    "pycharm": {
     "name": "#%% md\n"
    }
   }
  },
  {
   "cell_type": "code",
   "execution_count": null,
   "outputs": [],
   "source": [
    "sample(num_seqs=1, max_length=1000)"
   ],
   "metadata": {
    "collapsed": false,
    "pycharm": {
     "name": "#%%\n"
    }
   }
  },
  {
   "cell_type": "markdown",
   "source": [
    "Full model fine-tuning, 11000 iterations:"
   ],
   "metadata": {
    "collapsed": false,
    "pycharm": {
     "name": "#%% md\n"
    }
   }
  },
  {
   "cell_type": "code",
   "execution_count": null,
   "outputs": [],
   "source": [
    "sample(num_seqs=1, max_length=1000)"
   ],
   "metadata": {
    "collapsed": false,
    "pycharm": {
     "name": "#%%\n"
    }
   }
  },
  {
   "cell_type": "markdown",
   "source": [
    "### Comparing different of search strategies (for full model fine tuning)"
   ],
   "metadata": {
    "collapsed": false,
    "pycharm": {
     "name": "#%% md\n"
    }
   }
  },
  {
   "cell_type": "markdown",
   "source": [
    "Full model fine-tuning, 11000 iterations:"
   ],
   "metadata": {
    "id": "9UG90cHUnjvh",
    "pycharm": {
     "name": "#%% md\n"
    }
   }
  },
  {
   "cell_type": "code",
   "source": [
    "sample(num_seqs=1, max_length=1000)"
   ],
   "metadata": {
    "colab": {
     "base_uri": "https://localhost:8080/"
    },
    "id": "Xn2chEdAMwyD",
    "outputId": "def3bf9a-4436-459a-bf99-5e328409a2d6",
    "pycharm": {
     "name": "#%%\n"
    }
   },
   "execution_count": null,
   "outputs": [
    {
     "output_type": "stream",
     "name": "stderr",
     "text": [
      "Generate config GenerationConfig {\n",
      "  \"bos_token_id\": 50256,\n",
      "  \"eos_token_id\": 50256,\n",
      "  \"transformers_version\": \"4.26.1\"\n",
      "}\n",
      "\n"
     ]
    },
    {
     "output_type": "stream",
     "name": "stdout",
     "text": [
      "1 <|endoftext|>-флейте у моей двери была дверь в ванную. В коридоре я стоял на шаг-парадном и разглядывал цветочки.\n",
      "– Это, похоже, тюльпан, – сказал я.\n",
      "– Бальзаматы? – Она обернулась и взглянула на меня так, словно видела перед собой какую-то редкую зверушку.\n",
      "– Угу.\n",
      "– Ты что, на тюленье окно похож?\n",
      "– Конечно.\n",
      "– А это что, действительно тюльпан?\n",
      "– Конечно.\n",
      "– А откуда он растет?\n",
      "Я пошарил в карманах куртки, нащупал коробку с тюльпаном и тюльпаном и снова дернув за ручку, открыл дверь. Пока я искал тюльпан и вешалку, дождь все лил и лил – настолько обильно, что в ванной заискрился шербет. «Тюльпановы» у меня дома – коллекция еще с тех времен, когда мне семья выдраного корчилола глазки.\n",
      "– \n",
      "В ванной мы оба долго ждали, пока он выйдет, – чтобы обнаружить, что кто-то снова там появится.\n",
      "В конце концов дверь приоткрылась и стряхнула с себя капли. На миг в ванной посветлели, поблекли и померкли все краски. Сдохнув, дверь подалась на петлях, и на меня в окутавшую нас влагу вдруг пролился томительный мрак. Я остолбенело смотрел на проветриваемую комнату. Он был страшно красив, и при взгляде на него у меня щемило в груди. Вот ведь каково человеку в такие минуты!\n",
      "«Тишина бездонна, – подумал я. – В ней заключено всё: и вечность, и свет, и красота, и роковая тоска».\n",
      "Точно в продолжение этой мысли я распахнул дверь: комната была жутко просторной. Темно-синяя, очень ванная, напоминающая кубический ящик. Не меньше того, что я ожидал увидеть здесь в дальней стене. Там, видимо, был выход на некое подобие завещания, так сказать, временного интервала. И в то же время – что-то вроде родника. В этом пространстве разрешались все необходимые для жизни вопросы.\n",
      "В спальне на меня, как обычно, легла ночная спальная рубашка, похожая на скомканную бумагу. Простая, не стирана и не глаженная. Я застегнул пуговицы на рубашке. По-моему, на Аояма\n",
      "– Ничего нет, – сказала подруга.\n",
      "– И все-таки что-нибудь есть?\n",
      "– Все, кроме тебя.\n",
      "– Ну и чего ты стесняешься?\n",
      "– Ничего… Мне надо побыть немного в комнате. Ничего больше делать не нужно.\n",
      "– В какой это – «всякая куча всяческих всячинностей» \n",
      "Она взяла мой пенис и с тем же подозрительным видом прильнула. Я замер, уставившись в стену напротив.\n",
      "– М-м?\n",
      "– Ты можешь мне сейчас это показать? – попросил я у подруги. – Здесь \n",
      "– Хм.\n",
      "– У меня такое чувство, будто я давным-давно ничего не видел.\n",
      "– Мне все время казалось, будто я – это ты, – сказал я. – Что я все это видел. Вот уже много лет. И со всем этим постоянно куда-то ходил.\n",
      "– М-м?\n",
      "Я погладил ее клитор, и его мягкие складки опять на мне вызволили мою из глубин подсознания.\n",
      "– Ты что… так со мной не ладишь?\n",
      "Она чуть пожала плечами.\n",
      "– Послушай, может, все-таки объяснишь мне свои ощущения? Представь, что тебе в голову приходит что-то очень важное. Скажем, сейчас где-то идет дождь… или, скажем, снится тебе что-то очень яркое. Ты в этом состоянии раздвигаешь шторы, открываешь глаза и видишь все это в мельчайших деталях. И после этого ты уже ничего не можешь понять: все в порядке, все замечательно, все хорошо. Только мне кажется, что вот-вот дождь прекратится, идет дальше – или придет когда-то время – но не видно этого вообще никогда.\n",
      "– Может быть. – Я попробовал взять у нее за шиворот всю ту липкую сперму, которую она выдавливала в моей постели с утра до вечера, – но не вышло. Не потому, что липкая она была, а потому, что мне эту штуку просто хотелось воспроизвести в голове и надавливал сосок до упора.\n",
      "– Хм.\n",
      "– Иногда кажется, что тебе не двадцать пять, а еще что-то около тридцати. Хотя, конечно, ты это не замечаешь.\n",
      "– О чем это ты?\n",
      "Она чуть напряглась, взяла чуть разом и чуть языком слизнула вытекавшую из мочки уха капавшую слюну. Я поймал ее на руки, прижал к себе и бережно положил на простыню.\n",
      "– Это твое.\n"
     ]
    }
   ]
  },
  {
   "cell_type": "markdown",
   "source": [
    "### Comparing different of search strategies (for full model fine tuning)"
   ],
   "metadata": {
    "id": "Q1MR3F0CnRws",
    "pycharm": {
     "name": "#%% md\n"
    }
   }
  },
  {
   "cell_type": "code",
   "source": [
    "from pathlib import Path\n",
    "\n",
    "from transformers import AutoModelForCausalLM, AutoTokenizer\n",
    "tokenizer = AutoTokenizer.from_pretrained(\"sberbank-ai/rugpt3small_based_on_gpt2\")\n",
    "model = AutoModelForCausalLM.from_pretrained(\"sberbank-ai/rugpt3small_based_on_gpt2\")\n",
    "\n",
    "from transformers.trainer_utils import get_last_checkpoint\n",
    "save_dir = DRIVE_PATH / \"AI\" / \"pretgpt\" / \"murakami_rugpt3small\"\n",
    "save_dir.mkdir(exist_ok=True)\n",
    "if last_checkpoint_dir := get_last_checkpoint(str(save_dir)):\n",
    "    last_checkpoint_dir = Path(last_checkpoint_dir)\n",
    "    print(last_checkpoint_dir)\n",
    "    print('  '.join(t.name for t in last_checkpoint_dir.iterdir()))\n",
    "\n",
    "from transformers.utils import WEIGHTS_NAME\n",
    "import torch\n",
    "state_dict = torch.load(str(last_checkpoint_dir / WEIGHTS_NAME), map_location=\"cpu\")\n",
    "model.load_state_dict(state_dict)    \n",
    "\n",
    "def generate(**kwargs):\n",
    "    torch.manual_seed(42)\n",
    "    torch.cuda.manual_seed_all(42)\n",
    "    seq = model.generate(\n",
    "        max_length=500,\n",
    "        num_return_sequences=1,\n",
    "        pad_token_id=0,\n",
    "        eos_token_id=tokenizer.eos_token_id,\n",
    "        bos_token_id=tokenizer.bos_token_id,\n",
    "        **kwargs,\n",
    "    )[0]\n",
    "    print(tokenizer.decode(seq))\n",
    "    print()"
   ],
   "metadata": {
    "colab": {
     "base_uri": "https://localhost:8080/"
    },
    "id": "c6N-tfRwV37n",
    "outputId": "c978aff8-3b4e-462e-d17b-237c1728f20e",
    "pycharm": {
     "name": "#%%\n"
    }
   },
   "execution_count": null,
   "outputs": [
    {
     "output_type": "stream",
     "name": "stderr",
     "text": [
      "Special tokens have been added in the vocabulary, make sure the associated word embeddings are fine-tuned or trained.\n"
     ]
    },
    {
     "output_type": "stream",
     "name": "stdout",
     "text": [
      "/content/drive/MyDrive/AI/pretgpt/murakami_rugpt3small/checkpoint-11000\n",
      "config.json  generation_config.json  pytorch_model.bin  training_args.bin  optimizer.pt  scheduler.pt  trainer_state.json  rng_state.pth\n"
     ]
    }
   ]
  },
  {
   "cell_type": "code",
   "source": [
    "print(\"My search:\")\n",
    "generate(\n",
    "    do_sample=True, \n",
    "    top_p=0.95,\n",
    "    top_k=50,\n",
    ")"
   ],
   "metadata": {
    "colab": {
     "base_uri": "https://localhost:8080/"
    },
    "id": "R18x8g5RWAE9",
    "outputId": "5c73fc14-27ad-417e-db52-d592b31932d9",
    "pycharm": {
     "name": "#%%\n"
    }
   },
   "execution_count": null,
   "outputs": [
    {
     "output_type": "stream",
     "name": "stdout",
     "text": [
      "My search:\n",
      "<|endoftext|>, а волосы были пострижены коротко и совсем коротко. А сам он, долговязый, как толстокожий, почти не подавал виду, но стоило ему приподнять голову, как на его лице появлялась какая-то удивительная улыбка. Всякий раз, когда я его замечал, в ответ эти губы складывались в неопределенную улыбку, которая мне так нравился.\n",
      "– Ты здесь много времени проводишь? – поинтересовался я.\n",
      "– А ты разве не в Токио?\n",
      "– В Токио я был последний раз, – ответил я.\n",
      "– И где же?\n",
      "– Не знаю. Но не так далеко, к западу от Токио.\n",
      "Я вспомнил, как мы расстались прошлым летом, как ходили вдвоем в поход по горам Яманотэ. Вспомнил и тот жаркий день – когда мы расстались с Кидзуки.\n",
      "– А ты почему развелся? – спросил я.\n",
      "В ответ – молчание. Казалось, она о чем-то задумалась.\n",
      "– А я здесь пять лет жил. Работал на складе.\n",
      "– Мой холодильник не работает.\n",
      "– Извини. Я должен идти. А ты?\n",
      "Я покачал головой.\n",
      "– Знаешь… – сказала она. – Когда все успокоится, я уйду из этого дома. Останусь здесь, здесь, а не здесь, и никому не буду до меня дела. Так будет лучше.\n",
      "– Не беспокойся. Я пока справлюсь с этим.\n",
      "Она обняла меня за плечи, и мы двинулись по тропинке сквозь заросли. Мягкий ветер беспокойно поскрипывал под ногами. В зарослях мискантуса зияли несколько дыр, явно устроенных, чтобы ветром сдувало скопившуюся в них дождевая воду.\n",
      "Когда мы приблизились к ним, она отпустила меня, и мы перевели дух. Тишину прорезал только легкий шорох моих кроссовок. Я уловил ее запах: на солнце появились новые листья и сухо стукнулись друг о друга.\n",
      "– Здесь очень ровная открытая открытая котловина. Через нее и дорога на запад, и на восток.\n",
      "Я кивнул.\n",
      "– А как с камнем? Неглубокая?\n",
      "– Неглубокая, метров пять, – ответила она. – А что еще оставалось делать? Просто набирать воду?\n",
      "– Это уж как придется, – ответил я. – Вода нужна прямо в колодец.\n",
      "– Я имею в виду – в колодец?\n",
      "– Конечно, в колодец.\n",
      "– А вдруг он станет кишкой кишками кишмя ки\n",
      "\n"
     ]
    }
   ]
  },
  {
   "cell_type": "code",
   "source": [
    "print(\"Greedy search:\")\n",
    "generate()"
   ],
   "metadata": {
    "colab": {
     "base_uri": "https://localhost:8080/"
    },
    "id": "wgEqCMXRWFDB",
    "outputId": "0140d501-f6c8-4e01-a9e1-14a91f071fea",
    "pycharm": {
     "name": "#%%\n"
    }
   },
   "execution_count": null,
   "outputs": [
    {
     "output_type": "stream",
     "name": "stdout",
     "text": [
      "Greedy search:\n",
      "<|endoftext|>.\n",
      "– А что, если я попробую с ним поговорить?\n",
      "– Конечно, – ответил я. – Только учти, что я не смогу говорить с ним, пока ты не встретишься с ним.\n",
      "– Хорошо, – сказала она. – Но учтите, что я не смогу поговорить с ним, пока ты не встретишься с ним.\n",
      "– Хорошо, – сказал я.\n",
      "Она положила руку мне на плечо.\n",
      "– Я не знаю, как это сказать… но мне очень страшно.\n",
      "– Не страшно?\n",
      "– Да.\n",
      "– Мне очень страшно, – повторила она. – Не представляю, что это значит.\n",
      "– Я не знаю, что это значит, но… мне очень страшно.\n",
      "– Ну, не знаю… – сказала она. – Но это значит, что я не смогу ему помочь.\n",
      "– Каким образом?\n",
      "– Не знаю. Но я уверена, что он – это он.\n",
      "– И он – твой друг?\n",
      "– Да.\n",
      "– Значит, он – твой друг?\n",
      "– Да.\n",
      "– Значит, я смогу с ним поговорить?\n",
      "– Думаю, да.\n",
      "– Значит, я смогу поговорить с ним?\n",
      "– Думаю, да.\n",
      "– Значит, я смогу поговорить с ним?\n",
      "– Думаю, да.\n",
      "– Значит, я смогу поговорить с ним?\n",
      "– Думаю, да.\n",
      "– Значит, я смогу поговорить с ним?\n",
      "– Думаю, да.\n",
      "– Значит, я смогу поговорить с ним?\n",
      "– Думаю, да.\n",
      "– Значит, я смогу поговорить с ним?\n",
      "– Думаю, да.\n",
      "– Значит, я смогу поговорить с ним?\n",
      "– Думаю, да.\n",
      "– Значит, я смогу поговорить с ним?\n",
      "– Думаю, да.\n",
      "– Значит, я смогу поговорить с ним?\n",
      "– Думаю, да.\n",
      "– Значит, я смогу поговорить с ним?\n",
      "– Думаю, да.\n",
      "– Значит, я смогу поговорить с ним?\n",
      "– Думаю, да.\n",
      "– Значит, я смогу поговорить с ним?\n",
      "– Думаю, да.\n",
      "– Значит, я смогу поговорить с ним?\n",
      "– Думаю, да.\n",
      "– Значит, я смогу поговорить с ним?\n",
      "– Думаю, да.\n",
      "– Значит, я смогу поговорить с ним?\n",
      "– Думаю, да.\n",
      "– Значит, я смогу поговорить с ним?\n",
      "– Думаю, да.\n",
      "– Значит, я смогу поговорить с ним?\n",
      "–\n",
      "\n"
     ]
    }
   ]
  },
  {
   "cell_type": "code",
   "source": [
    "print(\"Nucleus sampling:\")\n",
    "generate(\n",
    "    do_sample=True,\n",
    "    top_p=0.05,\n",
    "    top_k=0,\n",
    ")"
   ],
   "metadata": {
    "colab": {
     "base_uri": "https://localhost:8080/"
    },
    "id": "HjF1cvsbWF2U",
    "outputId": "924905e3-3589-4ec8-8da9-9fb850dc65db",
    "pycharm": {
     "name": "#%%\n"
    }
   },
   "execution_count": null,
   "outputs": [
    {
     "output_type": "stream",
     "name": "stdout",
     "text": [
      "Nucleus sampling:\n",
      "<|endoftext|>.\n",
      "– А что, если я попробую с ним поговорить?\n",
      "– Конечно, – ответил я. – Только учти, что я не смогу говорить с ним, пока ты не встретишься с ним.\n",
      "– Хорошо, – сказала она. – Но учтите, что я не смогу поговорить с ним, пока ты не встретишься с ним.\n",
      "– Хорошо, – сказал я.\n",
      "Она положила руку мне на плечо.\n",
      "– Я не знаю, как это сказать… но мне очень страшно.\n",
      "– Не страшно?\n",
      "– Да.\n",
      "– Мне очень страшно, – повторила она. – Не представляю, что это значит.\n",
      "– Я не знаю, что это значит, но… мне очень страшно.\n",
      "– Ну, не знаю… – сказала она. – Но это значит, что я не смогу ему помочь.\n",
      "– Каким образом?\n",
      "– Не знаю. Но я уверена, что он – это он.\n",
      "– И он – твой друг?\n",
      "– Да.\n",
      "– Значит, он – твой друг?\n",
      "– Да.\n",
      "– Значит, я смогу с ним поговорить?\n",
      "– Думаю, да.\n",
      "– Значит, я смогу поговорить с ним?\n",
      "– Думаю, да.\n",
      "– Значит, я смогу поговорить с ним?\n",
      "– Думаю, да.\n",
      "– Значит, я смогу поговорить с ним?\n",
      "– Думаю, да.\n",
      "– Значит, я смогу поговорить с ним?\n",
      "– Думаю, да.\n",
      "– Значит, я смогу поговорить с ним?\n",
      "– Думаю, да.\n",
      "– Значит, я смогу поговорить с ним?\n",
      "– Думаю, да.\n",
      "– Значит, я смогу поговорить с ним?\n",
      "– Думаю, да.\n",
      "– Значит, я смогу поговорить с ним?\n",
      "– Думаю, да.\n",
      "– Значит, я смогу поговорить с ним?\n",
      "– Думаю, да.\n",
      "– Значит, я смогу поговорить с ним?\n",
      "– Думаю, да.\n",
      "– Значит, я смогу поговорить с ним?\n",
      "– Думаю, да.\n",
      "– Значит, я смогу поговорить с ним?\n",
      "– Думаю, да.\n",
      "– Значит, я смогу поговорить с ним?\n",
      "– Думаю, да.\n",
      "– Значит, я смогу поговорить с ним?\n",
      "– Думаю, да.\n",
      "– Значит, я смогу поговорить с ним?\n",
      "– Думаю, да.\n",
      "– Значит, я смогу поговорить с ним?\n",
      "– Думаю, да.\n",
      "– Значит, я смогу поговорить с ним?\n",
      "–\n",
      "\n"
     ]
    }
   ]
  },
  {
   "cell_type": "code",
   "source": [
    "print(\"Contrastive search:\")\n",
    "generate(\n",
    "    penalty_alpha=0.6, \n",
    "    top_k=4,\n",
    ")"
   ],
   "metadata": {
    "colab": {
     "base_uri": "https://localhost:8080/"
    },
    "id": "iTt8QePtWJQu",
    "outputId": "e33b00ff-096c-4bfb-c345-5153347c919e",
    "pycharm": {
     "name": "#%%\n"
    }
   },
   "execution_count": null,
   "outputs": [
    {
     "output_type": "stream",
     "name": "stdout",
     "text": [
      "Contrastive search:\n",
      "<|endoftext|> в том, что это место обладает мощной энергией.\n",
      "– Мощной?\n",
      "– Да, излучающей волны высокой четкости. Она излучает не частоту, а импульс длительностью порядка десяти секунд. У меня в памяти это называется «параллельный мир». Но далеко не все, что я знаю, связано с этим местом. Есть у него какая-то связь со мной, а есть ли она у тебя, не знаю. Я думаю, это взаимосвязно.\n",
      "– Что-то вроде родника? – предположил я.\n",
      "– Нет, скорее всего, нет. Источник находится где-то на дне ущелья, окруженном высокими каменными стенами. И вода в нем – как из бочки, которую замуровали в склеп за кумирней. В мире, где отсутствуют звуки, которые можно слышать, и нет времени, чтобы насытиться этой водой. Она доступна только в подземном мире. Этот мир называется «Пространство А» и охраняется очень строгой дисциплиной. По религиозным соображениям туда не вход воспрещен. Однако верующие, католики и верующие-католики категорически против того, чтобы туда стекалась вода из других мест. Они просят Вселенского потакания, и это, по их мнению, одно из главных препятствий на пути к спасению.\n",
      "– А насчет воды в источнике можно что-нибудь узнать?\n",
      "– Конечно. Известно, что в старину по этому источнику ходили искупаться знатные люди. Из поколения в поколение вода использовалась для питья и защиты от злых духов (бог знает, какая участь постигла их в результате этой воды). Кроме того, существовали минеральные воды, благотворно влияющие на структуру организма, а также способствовавшие зарождению новой веры. Но особой близости к воде у них не было, и никто не знал, какая она – настоящая или подделка. Все свято полагали, что она имеет природное происхождение. Поэтому никаких подробностей о ее содержании в древних рукописях не содержится. Но тем не менее источники есть, и в них полно всякой воды. Источник – в общем-то, то, что нужно. Источник всегда был там, где есть вода. А как слагали литавры, когда приносили жертвы богам? В общем, там же, в зарослях мискантуса [\n",
      "Сказав так, Мэнсики перевел дух. Затем взял стакан и отпил половину.\n",
      "– Кстати, о воде. Откуда у тебя эта вода?\n",
      "\n",
      "\n"
     ]
    }
   ]
  },
  {
   "cell_type": "code",
   "source": [
    "print(\"Beam search:\")\n",
    "generate(\n",
    "    do_sample=False,\n",
    "    num_beams=4,\n",
    ")"
   ],
   "metadata": {
    "colab": {
     "base_uri": "https://localhost:8080/"
    },
    "id": "_Hk0e91yYe6a",
    "outputId": "d7969320-46ec-4d86-8198-cce91901eb84",
    "pycharm": {
     "name": "#%%\n"
    }
   },
   "execution_count": null,
   "outputs": [
    {
     "output_type": "stream",
     "name": "stdout",
     "text": [
      "Beam search:\n",
      "<|endoftext|>.\n",
      "– Я не знаю, как это получилось, но, похоже, так оно и было, – сказал я.\n",
      "– Я тоже так думаю, – сказала она.\n",
      "– Я тоже, – сказал я.\n",
      "– И все-таки?\n",
      "– Все-таки, – сказал я.\n",
      "– Все-таки?\n",
      "– Все-таки, – повторил я за ней.\n",
      "– Все-таки?\n",
      "– Все-таки, – повторил я за ней.\n",
      "– Все-таки?\n",
      "– Все-таки, – повторил я за ней.\n",
      "– Все-таки?\n",
      "– Все-таки, – повторил я за ней.\n",
      "– Все-таки?\n",
      "– Все-таки, – повторил я за ней.\n",
      "– Все-таки?\n",
      "– Все-таки, – повторил я за ней.\n",
      "– Все-таки?\n",
      "– Все-таки, – повторил я за ней.\n",
      "– Все-таки?\n",
      "– Все-таки, – повторил я за ней.\n",
      "– Все-таки?\n",
      "– Все-таки, – повторил я за ней.\n",
      "– Все-таки?\n",
      "– Все-таки, – повторил я за ней.\n",
      "– Все-таки?\n",
      "– Все-таки, – повторил я за ней. – Все-таки, все-таки…\n",
      "– Все-таки?\n",
      "– Все-таки, – повторил я за ней.\n",
      "– Все-таки?\n",
      "– Все-таки, – повторил я за ней.\n",
      "– Все-таки? – повторила она за мной.\n",
      "– Все-таки, – повторил я за ней.\n",
      "– Все-таки?\n",
      "– Все-таки, – повторил я за ней.\n",
      "– Все-таки?\n",
      "– Все-таки, – повторил я за ней.\n",
      "– Все-таки?\n",
      "– Все-таки, – повторил я за ней.\n",
      "– Все-таки?\n",
      "– Все-таки, – повторил я за ней.\n",
      "– Все-таки, – повторила она за мной.\n",
      "– Все-таки, – повторил я за ней.\n",
      "– Все-таки?\n",
      "– Все-таки, – повторил я за ней.\n",
      "– Все-таки?\n",
      "– Все-таки, – повторил я за ней.\n",
      "– Все-таки?\n",
      "– Все-таки, – повторил я за ней.\n",
      "– Все-таки?\n",
      "– Все-таки, – повторил я за ней.\n",
      "– Все\n",
      "\n"
     ]
    }
   ]
  },
  {
   "cell_type": "code",
   "source": [
    "print(\"Beam multinomial search:\")\n",
    "generate(\n",
    "    do_sample=True,\n",
    "    num_beams=4,\n",
    ")\n"
   ],
   "metadata": {
    "colab": {
     "base_uri": "https://localhost:8080/"
    },
    "id": "pKSNqJWnYgDB",
    "outputId": "7002cfce-d48c-443b-b19e-14ed132046a6",
    "pycharm": {
     "name": "#%%\n"
    }
   },
   "execution_count": null,
   "outputs": [
    {
     "output_type": "stream",
     "name": "stdout",
     "text": [
      "Beam multinomial search:\n",
      "<|endoftext|>.\n",
      "– Ну, что? Поехали дальше?\n",
      "– Да-да, конечно, – сказал я.\n",
      "– Ну, что? Поехали дальше?\n",
      "– Да-да, конечно, – сказал я.\n",
      "– Ну, счастливо тебе, – сказала она.\n",
      "– Пока, – ответил я.\n",
      "– Пока, – сказала она.\n",
      "– Пока, – сказал я.\n",
      "– Пока, – сказала она.\n",
      "– Пока, – повторил я.\n",
      "– Пока, – сказала она.\n",
      "– Пока, – сказал я.\n",
      "– Пока, – сказала она.\n",
      "– Пока, – повторил я.\n",
      "– Пока, – сказала она.\n",
      "– Пока, – сказал я.\n",
      "– Пока, – сказала она.\n",
      "– Пока, – сказала она.\n",
      "– Пока, – повторил я.\n",
      "– Пока, – сказала она.\n",
      "– Пока, – сказала она.\n",
      "– Пока, – сказал я.\n",
      "– Пока, – сказала она.\n",
      "– Пока, – сказала она.\n",
      "– Пока, – повторил я.\n",
      "– Пока, – сказала она.\n",
      "– Пока, – сказала она.\n",
      "– Пока, – сказал я.\n",
      "– Пока, – сказала она.\n",
      "– Пока, – сказал я.\n",
      "– Пока, – сказала она.\n",
      "– Пока, – сказала она.\n",
      "– Пока, – сказал я.\n",
      "– Пока, – сказала она.\n",
      "– Пока, – сказала она.\n",
      "Пока, – сказала она.\n",
      "Пока, – сказала она.\n",
      "Пока, – сказала она.\n",
      "Пока, – сказал я.\n",
      "Пока, – сказала она.\n",
      "Пока, – сказала она.\n",
      "Пока, – сказала она.\n",
      "Пока, – сказал я.\n",
      "Пока, – сказала она.\n",
      "Пока, – сказала она.\n",
      "Пока, – сказала она.\n",
      "Пока, – сказала она.\n",
      "Пока, – сказала она.\n",
      "Пока, – сказала она.\n",
      "Пока, – сказала она.\n",
      "Пока, – сказала она.\n",
      "Пока, – сказала она.\n",
      "Пока, – сказала она.\n",
      "Пока, – сказала она.\n",
      "Пока, – сказала она.\n",
      "Пока, – сказала она.\n",
      "Пока, – сказала она.\n",
      "Пока, – сказала она.\n",
      "Пока, – сказала она.\n",
      "Пока, – сказала она.\n",
      "Пока, – сказала она.\n",
      "Пока, – сказала она.\n",
      "Пока, – сказала она.\n",
      "Пока, – сказала она.\n",
      "Пока\n",
      "\n"
     ]
    }
   ]
  }
 ]
}